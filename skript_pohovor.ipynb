{
  "nbformat": 4,
  "nbformat_minor": 0,
  "metadata": {
    "colab": {
      "name": "Untitled2.ipynb",
      "provenance": [],
      "collapsed_sections": []
    },
    "kernelspec": {
      "name": "python3",
      "display_name": "Python 3"
    }
  },
  "cells": [
    {
      "cell_type": "code",
      "metadata": {
        "id": "-9g_yWFQXK9Q",
        "colab_type": "code",
        "colab": {}
      },
      "source": [
        "#importing libraries\n",
        "import pandas as pd\n",
        "import numpy as np\n",
        "import seaborn as sns\n",
        "import matplotlib.pyplot as plt\n",
        "import statsmodels.api as stm\n",
        "from statsmodels.stats.outliers_influence import variance_inflation_factor\n",
        "from sklearn.model_selection import train_test_split\n",
        "from sklearn import preprocessing\n",
        "from sklearn.linear_model import LogisticRegression\n",
        "from sklearn.metrics import classification_report\n",
        "from sklearn import metrics\n",
        "from sklearn.metrics import roc_curve\n",
        "from imblearn.over_sampling import SMOTE\n",
        "from sklearn.ensemble import RandomForestClassifier"
      ],
      "execution_count": 0,
      "outputs": []
    },
    {
      "cell_type": "code",
      "metadata": {
        "id": "HDO3DZTRXvmk",
        "colab_type": "code",
        "outputId": "9110b9de-f12d-49ae-c45f-9a3d3767ce55",
        "colab": {
          "resources": {
            "http://localhost:8080/nbextensions/google.colab/files.js": {
              "data": "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",
              "ok": true,
              "headers": [
                [
                  "content-type",
                  "application/javascript"
                ]
              ],
              "status": 200,
              "status_text": ""
            }
          },
          "base_uri": "https://localhost:8080/",
          "height": 74
        }
      },
      "source": [
        "#importing data\n",
        "from google.colab import files\n",
        "uploaded = files.upload()\n"
      ],
      "execution_count": 3,
      "outputs": [
        {
          "output_type": "display_data",
          "data": {
            "text/html": [
              "\n",
              "     <input type=\"file\" id=\"files-f3e3d11d-d8a0-4a91-a4d0-cff4ddd3cd03\" name=\"files[]\" multiple disabled />\n",
              "     <output id=\"result-f3e3d11d-d8a0-4a91-a4d0-cff4ddd3cd03\">\n",
              "      Upload widget is only available when the cell has been executed in the\n",
              "      current browser session. Please rerun this cell to enable.\n",
              "      </output>\n",
              "      <script src=\"/nbextensions/google.colab/files.js\"></script> "
            ],
            "text/plain": [
              "<IPython.core.display.HTML object>"
            ]
          },
          "metadata": {
            "tags": []
          }
        },
        {
          "output_type": "stream",
          "text": [
            "Saving data_pohovor.xlsx to data_pohovor.xlsx\n"
          ],
          "name": "stdout"
        }
      ]
    },
    {
      "cell_type": "code",
      "metadata": {
        "id": "dT5s8vO6X1sy",
        "colab_type": "code",
        "colab": {}
      },
      "source": [
        "#nacitanie dat\n",
        "miss_value = [\"unknown\"]\n",
        "\n",
        "import io\n",
        "data = pd.read_excel(io.BytesIO(uploaded['data_pohovor.xlsx']), na_values = miss_value)"
      ],
      "execution_count": 0,
      "outputs": []
    },
    {
      "cell_type": "code",
      "metadata": {
        "id": "u4ZQmczth_ov",
        "colab_type": "code",
        "outputId": "eaea67a5-1b67-4ce1-968e-f2f3dbcf950a",
        "colab": {
          "base_uri": "https://localhost:8080/",
          "height": 224
        }
      },
      "source": [
        "#ukazka dat\n",
        "data.head()"
      ],
      "execution_count": 196,
      "outputs": [
        {
          "output_type": "execute_result",
          "data": {
            "text/html": [
              "<div>\n",
              "<style scoped>\n",
              "    .dataframe tbody tr th:only-of-type {\n",
              "        vertical-align: middle;\n",
              "    }\n",
              "\n",
              "    .dataframe tbody tr th {\n",
              "        vertical-align: top;\n",
              "    }\n",
              "\n",
              "    .dataframe thead th {\n",
              "        text-align: right;\n",
              "    }\n",
              "</style>\n",
              "<table border=\"1\" class=\"dataframe\">\n",
              "  <thead>\n",
              "    <tr style=\"text-align: right;\">\n",
              "      <th></th>\n",
              "      <th>VEK</th>\n",
              "      <th>ZAMESTNANIE</th>\n",
              "      <th>RODINNY_STAV</th>\n",
              "      <th>VZDELANIE</th>\n",
              "      <th>DEFAULT</th>\n",
              "      <th>HYPO</th>\n",
              "      <th>SU</th>\n",
              "      <th>HYPO_BAL</th>\n",
              "      <th>SU_BAL</th>\n",
              "      <th>KREDIT_TXN</th>\n",
              "      <th>KONTACT_TYP</th>\n",
              "      <th>MESIAC</th>\n",
              "      <th>DEN</th>\n",
              "      <th>TRVANIE</th>\n",
              "      <th>POCET_KAMPANI</th>\n",
              "      <th>POCET_DNI</th>\n",
              "      <th>POCET_KONTAKTOVANI</th>\n",
              "      <th>VYSLEDOK_KAMPANE</th>\n",
              "      <th>EMP.VAR.RATE</th>\n",
              "      <th>CONS.PRICE.IDX</th>\n",
              "      <th>CONS.CONF.IDX</th>\n",
              "      <th>EURIBOR3M</th>\n",
              "      <th>NR.EMPLOYED</th>\n",
              "      <th>Y</th>\n",
              "    </tr>\n",
              "  </thead>\n",
              "  <tbody>\n",
              "    <tr>\n",
              "      <th>0</th>\n",
              "      <td>18</td>\n",
              "      <td>student</td>\n",
              "      <td>single</td>\n",
              "      <td>high.school</td>\n",
              "      <td>no</td>\n",
              "      <td>no</td>\n",
              "      <td>no</td>\n",
              "      <td>NaN</td>\n",
              "      <td>NaN</td>\n",
              "      <td>971.13</td>\n",
              "      <td>telephone</td>\n",
              "      <td>nov</td>\n",
              "      <td>thu</td>\n",
              "      <td>75</td>\n",
              "      <td>1</td>\n",
              "      <td>999</td>\n",
              "      <td>0</td>\n",
              "      <td>nonexistent</td>\n",
              "      <td>-0.1</td>\n",
              "      <td>93.200</td>\n",
              "      <td>-42.0</td>\n",
              "      <td>4.245</td>\n",
              "      <td>5195.8</td>\n",
              "      <td>no</td>\n",
              "    </tr>\n",
              "    <tr>\n",
              "      <th>1</th>\n",
              "      <td>18</td>\n",
              "      <td>student</td>\n",
              "      <td>single</td>\n",
              "      <td>high.school</td>\n",
              "      <td>no</td>\n",
              "      <td>yes</td>\n",
              "      <td>yes</td>\n",
              "      <td>16018.57</td>\n",
              "      <td>3543.48</td>\n",
              "      <td>999.15</td>\n",
              "      <td>cellular</td>\n",
              "      <td>mar</td>\n",
              "      <td>tue</td>\n",
              "      <td>103</td>\n",
              "      <td>1</td>\n",
              "      <td>999</td>\n",
              "      <td>0</td>\n",
              "      <td>nonexistent</td>\n",
              "      <td>-1.8</td>\n",
              "      <td>92.843</td>\n",
              "      <td>-50.0</td>\n",
              "      <td>1.687</td>\n",
              "      <td>5099.1</td>\n",
              "      <td>no</td>\n",
              "    </tr>\n",
              "    <tr>\n",
              "      <th>2</th>\n",
              "      <td>18</td>\n",
              "      <td>student</td>\n",
              "      <td>single</td>\n",
              "      <td>basic</td>\n",
              "      <td>no</td>\n",
              "      <td>no</td>\n",
              "      <td>no</td>\n",
              "      <td>NaN</td>\n",
              "      <td>NaN</td>\n",
              "      <td>696.62</td>\n",
              "      <td>cellular</td>\n",
              "      <td>apr</td>\n",
              "      <td>thu</td>\n",
              "      <td>108</td>\n",
              "      <td>1</td>\n",
              "      <td>999</td>\n",
              "      <td>0</td>\n",
              "      <td>nonexistent</td>\n",
              "      <td>-1.8</td>\n",
              "      <td>93.075</td>\n",
              "      <td>-47.1</td>\n",
              "      <td>1.365</td>\n",
              "      <td>5099.1</td>\n",
              "      <td>no</td>\n",
              "    </tr>\n",
              "    <tr>\n",
              "      <th>3</th>\n",
              "      <td>18</td>\n",
              "      <td>student</td>\n",
              "      <td>single</td>\n",
              "      <td>basic</td>\n",
              "      <td>no</td>\n",
              "      <td>yes</td>\n",
              "      <td>yes</td>\n",
              "      <td>18691.97</td>\n",
              "      <td>2303.03</td>\n",
              "      <td>576.59</td>\n",
              "      <td>cellular</td>\n",
              "      <td>apr</td>\n",
              "      <td>thu</td>\n",
              "      <td>184</td>\n",
              "      <td>2</td>\n",
              "      <td>999</td>\n",
              "      <td>0</td>\n",
              "      <td>nonexistent</td>\n",
              "      <td>-1.8</td>\n",
              "      <td>93.075</td>\n",
              "      <td>-47.1</td>\n",
              "      <td>1.365</td>\n",
              "      <td>5099.1</td>\n",
              "      <td>no</td>\n",
              "    </tr>\n",
              "    <tr>\n",
              "      <th>4</th>\n",
              "      <td>18</td>\n",
              "      <td>student</td>\n",
              "      <td>single</td>\n",
              "      <td>high.school</td>\n",
              "      <td>no</td>\n",
              "      <td>no</td>\n",
              "      <td>no</td>\n",
              "      <td>NaN</td>\n",
              "      <td>NaN</td>\n",
              "      <td>1095.12</td>\n",
              "      <td>cellular</td>\n",
              "      <td>may</td>\n",
              "      <td>fri</td>\n",
              "      <td>271</td>\n",
              "      <td>1</td>\n",
              "      <td>999</td>\n",
              "      <td>1</td>\n",
              "      <td>failure</td>\n",
              "      <td>-1.8</td>\n",
              "      <td>92.893</td>\n",
              "      <td>-46.2</td>\n",
              "      <td>1.259</td>\n",
              "      <td>5099.1</td>\n",
              "      <td>yes</td>\n",
              "    </tr>\n",
              "  </tbody>\n",
              "</table>\n",
              "</div>"
            ],
            "text/plain": [
              "   VEK ZAMESTNANIE RODINNY_STAV  ... EURIBOR3M NR.EMPLOYED    Y\n",
              "0   18     student       single  ...     4.245      5195.8   no\n",
              "1   18     student       single  ...     1.687      5099.1   no\n",
              "2   18     student       single  ...     1.365      5099.1   no\n",
              "3   18     student       single  ...     1.365      5099.1   no\n",
              "4   18     student       single  ...     1.259      5099.1  yes\n",
              "\n",
              "[5 rows x 24 columns]"
            ]
          },
          "metadata": {
            "tags": []
          },
          "execution_count": 196
        }
      ]
    },
    {
      "cell_type": "code",
      "metadata": {
        "id": "rxw--xaQiYJZ",
        "colab_type": "code",
        "outputId": "39a58a1a-495e-4ea6-b352-a95893919ce5",
        "colab": {
          "base_uri": "https://localhost:8080/",
          "height": 476
        }
      },
      "source": [
        "#datovy typ suboru\n",
        "print(type(data))\n",
        "#rozmer dat\n",
        "print(data.shape)\n",
        "#datove typy jednotlivych premennych\n",
        "print(data.dtypes)"
      ],
      "execution_count": 199,
      "outputs": [
        {
          "output_type": "stream",
          "text": [
            "<class 'pandas.core.frame.DataFrame'>\n",
            "(40761, 24)\n",
            "VEK                     int64\n",
            "ZAMESTNANIE            object\n",
            "RODINNY_STAV           object\n",
            "VZDELANIE              object\n",
            "DEFAULT                object\n",
            "HYPO                   object\n",
            "SU                     object\n",
            "HYPO_BAL              float64\n",
            "SU_BAL                float64\n",
            "KREDIT_TXN            float64\n",
            "KONTACT_TYP            object\n",
            "MESIAC                 object\n",
            "DEN                    object\n",
            "TRVANIE                 int64\n",
            "POCET_KAMPANI           int64\n",
            "POCET_DNI               int64\n",
            "POCET_KONTAKTOVANI      int64\n",
            "VYSLEDOK_KAMPANE       object\n",
            "EMP.VAR.RATE          float64\n",
            "CONS.PRICE.IDX        float64\n",
            "CONS.CONF.IDX         float64\n",
            "EURIBOR3M             float64\n",
            "NR.EMPLOYED           float64\n",
            "Y                      object\n",
            "dtype: object\n"
          ],
          "name": "stdout"
        }
      ]
    },
    {
      "cell_type": "code",
      "metadata": {
        "id": "UiHzmhVJiRa5",
        "colab_type": "code",
        "outputId": "d76ea34f-e276-437c-f598-b54089ecab27",
        "colab": {
          "base_uri": "https://localhost:8080/",
          "height": 1000
        }
      },
      "source": [
        "#unique values v jednotlivych stlpcoch\n",
        "for i in range(len(data.columns)):\n",
        "  if data.iloc[:,i].dtypes == object:\n",
        "    print(data.columns[i])\n",
        "    print(np.unique(data.iloc[:,i].fillna(\"NAN\")))  #fillna lebo s povodnym NaN nefungovalo np.unique pri data_type=object\n",
        "  else:\n",
        "    print(data.columns[i])\n",
        "    print(np.unique(data.iloc[:,i]))"
      ],
      "execution_count": 200,
      "outputs": [
        {
          "output_type": "stream",
          "text": [
            "VEK\n",
            "[18 19 20 21 22 23 24 25 26 27 28 29 30 31 32 33 34 35 36 37 38 39 40 41\n",
            " 42 43 44 45 46 47 48 49 50 51 52 53 54 55 56 57 58 59 60 61 62 63 64 65\n",
            " 66 67 68 69 70]\n",
            "ZAMESTNANIE\n",
            "['NAN' 'admin.' 'blue-collar' 'entrepreneur' 'housemaid' 'management'\n",
            " 'retired' 'self-employed' 'services' 'student' 'technician' 'unemployed']\n",
            "RODINNY_STAV\n",
            "['NAN' 'divorced' 'married' 'single']\n",
            "VZDELANIE\n",
            "['NAN' 'basic' 'high.school' 'university.bachelor' 'university.master']\n",
            "DEFAULT\n",
            "['NAN' 'no' 'yes']\n",
            "HYPO\n",
            "['NAN' 'no' 'yes']\n",
            "SU\n",
            "['NAN' 'no' 'yes']\n",
            "HYPO_BAL\n",
            "[1361.85 1630.47 1633.69 ...     nan     nan     nan]\n",
            "SU_BAL\n",
            "[409.64 544.91 832.77 ...    nan    nan    nan]\n",
            "KREDIT_TXN\n",
            "[550.   550.02 550.03 ...    nan    nan    nan]\n",
            "KONTACT_TYP\n",
            "['cellular' 'telephone']\n",
            "MESIAC\n",
            "['apr' 'aug' 'dec' 'jul' 'jun' 'mar' 'may' 'nov' 'oct' 'sep']\n",
            "DEN\n",
            "['fri' 'mon' 'thu' 'tue' 'wed']\n",
            "TRVANIE\n",
            "[   0    1    2 ... 3785 4199 4918]\n",
            "POCET_KAMPANI\n",
            "[ 1  2  3  4  5  6  7  8  9 10 11 12 13 14 15 16 17 18 19 20 21 22 23 24\n",
            " 25 26 27 28 29 30 31 32 33 34 35 37 39 40 41 42 43 56]\n",
            "POCET_DNI\n",
            "[  0   1   2   3   4   5   6   7   8   9  10  11  12  13  14  15  16  17\n",
            "  18  19  20  21  22  25  26  27 999]\n",
            "POCET_KONTAKTOVANI\n",
            "[0 1 2 3 4 5 6 7]\n",
            "VYSLEDOK_KAMPANE\n",
            "['failure' 'nonexistent' 'success']\n",
            "EMP.VAR.RATE\n",
            "[-3.4 -3.  -2.9 -1.8 -1.7 -1.1 -0.2 -0.1  1.1  1.4]\n",
            "CONS.PRICE.IDX\n",
            "[92.201 92.379 92.431 92.469 92.649 92.713 92.756 92.843 92.893 92.963\n",
            " 93.075 93.2   93.369 93.444 93.749 93.798 93.876 93.918 93.994 94.027\n",
            " 94.055 94.199 94.215 94.465 94.601 94.767]\n",
            "CONS.CONF.IDX\n",
            "[-50.8 -50.  -49.5 -47.1 -46.2 -45.9 -42.7 -42.  -41.8 -40.8 -40.4 -40.3\n",
            " -40.  -39.8 -38.3 -37.5 -36.4 -36.1 -34.8 -34.6 -33.6 -33.  -31.4 -30.1\n",
            " -29.8 -26.9]\n",
            "EURIBOR3M\n",
            "[0.634 0.635 0.636 0.637 0.638 0.639 0.64  0.642 0.643 0.644 0.645 0.646\n",
            " 0.649 0.65  0.651 0.652 0.653 0.654 0.655 0.659 0.663 0.668 0.672 0.677\n",
            " 0.682 0.683 0.684 0.685 0.688 0.69  0.692 0.695 0.697 0.699 0.7   0.701\n",
            " 0.702 0.704 0.706 0.707 0.708 0.709 0.71  0.711 0.712 0.713 0.714 0.715\n",
            " 0.716 0.717 0.718 0.719 0.72  0.721 0.722 0.723 0.724 0.727 0.728 0.729\n",
            " 0.73  0.731 0.732 0.733 0.735 0.737 0.739 0.74  0.741 0.742 0.743 0.744\n",
            " 0.748 0.749 0.75  0.752 0.753 0.754 0.755 0.761 0.762 0.766 0.767 0.768\n",
            " 0.77  0.771 0.773 0.778 0.781 0.782 0.788 0.79  0.793 0.797 0.802 0.803\n",
            " 0.809 0.81  0.813 0.819 0.821 0.822 0.825 0.827 0.829 0.834 0.835 0.838\n",
            " 0.84  0.843 0.846 0.849 0.851 0.854 0.859 0.861 0.869 0.87  0.873 0.876\n",
            " 0.877 0.878 0.879 0.88  0.881 0.882 0.883 0.884 0.885 0.886 0.888 0.889\n",
            " 0.89  0.891 0.893 0.894 0.895 0.896 0.898 0.899 0.9   0.903 0.904 0.905\n",
            " 0.908 0.914 0.921 0.927 0.933 0.937 0.942 0.944 0.953 0.956 0.959 0.965\n",
            " 0.969 0.972 0.977 0.979 0.982 0.985 0.987 0.993 0.996 1.    1.007 1.008\n",
            " 1.016 1.018 1.025 1.028 1.029 1.031 1.032 1.035 1.037 1.039 1.041 1.043\n",
            " 1.044 1.045 1.046 1.047 1.048 1.049 1.059 1.072 1.085 1.099 1.206 1.215\n",
            " 1.224 1.235 1.244 1.25  1.252 1.259 1.26  1.262 1.264 1.266 1.268 1.27\n",
            " 1.281 1.286 1.291 1.299 1.3   1.313 1.327 1.334 1.344 1.354 1.365 1.372\n",
            " 1.384 1.392 1.4   1.405 1.406 1.41  1.415 1.423 1.435 1.445 1.453 1.466\n",
            " 1.479 1.483 1.498 1.5   1.51  1.531 1.538 1.548 1.556 1.56  1.574 1.584\n",
            " 1.602 1.614 1.629 1.64  1.65  1.663 1.687 1.703 1.726 1.757 1.778 1.799\n",
            " 1.811 3.053 3.282 3.329 3.428 3.488 3.563 3.669 3.743 3.816 3.853 3.879\n",
            " 3.901 4.021 4.076 4.12  4.153 4.191 4.223 4.245 4.286 4.343 4.406 4.474\n",
            " 4.592 4.663 4.7   4.733 4.76  4.794 4.827 4.855 4.856 4.857 4.858 4.859\n",
            " 4.86  4.864 4.865 4.866 4.912 4.918 4.921 4.936 4.947 4.955 4.956 4.957\n",
            " 4.958 4.959 4.96  4.961 4.962 4.963 4.964 4.965 4.966 4.967 4.968 4.97\n",
            " 5.    5.045]\n",
            "NR.EMPLOYED\n",
            "[4963.6 4991.6 5008.7 5017.5 5023.5 5076.2 5099.1 5176.3 5191.  5195.8\n",
            " 5228.1]\n",
            "Y\n",
            "['no' 'yes']\n"
          ],
          "name": "stdout"
        }
      ]
    },
    {
      "cell_type": "code",
      "metadata": {
        "id": "oD3fNSav_sSE",
        "colab_type": "code",
        "outputId": "0e3807f3-e0d0-41f1-d3bf-7bbd2c19245f",
        "colab": {
          "base_uri": "https://localhost:8080/",
          "height": 317
        }
      },
      "source": [
        "#zakladne statistiky\n",
        "data.describe()"
      ],
      "execution_count": 201,
      "outputs": [
        {
          "output_type": "execute_result",
          "data": {
            "text/html": [
              "<div>\n",
              "<style scoped>\n",
              "    .dataframe tbody tr th:only-of-type {\n",
              "        vertical-align: middle;\n",
              "    }\n",
              "\n",
              "    .dataframe tbody tr th {\n",
              "        vertical-align: top;\n",
              "    }\n",
              "\n",
              "    .dataframe thead th {\n",
              "        text-align: right;\n",
              "    }\n",
              "</style>\n",
              "<table border=\"1\" class=\"dataframe\">\n",
              "  <thead>\n",
              "    <tr style=\"text-align: right;\">\n",
              "      <th></th>\n",
              "      <th>VEK</th>\n",
              "      <th>HYPO_BAL</th>\n",
              "      <th>SU_BAL</th>\n",
              "      <th>KREDIT_TXN</th>\n",
              "      <th>TRVANIE</th>\n",
              "      <th>POCET_KAMPANI</th>\n",
              "      <th>POCET_DNI</th>\n",
              "      <th>POCET_KONTAKTOVANI</th>\n",
              "      <th>EMP.VAR.RATE</th>\n",
              "      <th>CONS.PRICE.IDX</th>\n",
              "      <th>CONS.CONF.IDX</th>\n",
              "      <th>EURIBOR3M</th>\n",
              "      <th>NR.EMPLOYED</th>\n",
              "    </tr>\n",
              "  </thead>\n",
              "  <tbody>\n",
              "    <tr>\n",
              "      <th>count</th>\n",
              "      <td>40761.000000</td>\n",
              "      <td>21342.000000</td>\n",
              "      <td>6182.000000</td>\n",
              "      <td>40744.000000</td>\n",
              "      <td>40761.000000</td>\n",
              "      <td>40761.000000</td>\n",
              "      <td>40761.000000</td>\n",
              "      <td>40761.000000</td>\n",
              "      <td>40761.000000</td>\n",
              "      <td>40761.000000</td>\n",
              "      <td>40761.000000</td>\n",
              "      <td>40761.000000</td>\n",
              "      <td>40761.000000</td>\n",
              "    </tr>\n",
              "    <tr>\n",
              "      <th>mean</th>\n",
              "      <td>39.636834</td>\n",
              "      <td>56811.018405</td>\n",
              "      <td>11670.661661</td>\n",
              "      <td>1257.154134</td>\n",
              "      <td>258.117956</td>\n",
              "      <td>2.574103</td>\n",
              "      <td>964.286745</td>\n",
              "      <td>0.167538</td>\n",
              "      <td>0.107492</td>\n",
              "      <td>93.580362</td>\n",
              "      <td>-40.546706</td>\n",
              "      <td>3.650123</td>\n",
              "      <td>5168.475921</td>\n",
              "    </tr>\n",
              "    <tr>\n",
              "      <th>std</th>\n",
              "      <td>9.721637</td>\n",
              "      <td>29878.664776</td>\n",
              "      <td>3776.076121</td>\n",
              "      <td>574.153178</td>\n",
              "      <td>259.629267</td>\n",
              "      <td>2.778371</td>\n",
              "      <td>182.386105</td>\n",
              "      <td>0.484218</td>\n",
              "      <td>1.556840</td>\n",
              "      <td>0.574666</td>\n",
              "      <td>4.574778</td>\n",
              "      <td>1.720189</td>\n",
              "      <td>71.106836</td>\n",
              "    </tr>\n",
              "    <tr>\n",
              "      <th>min</th>\n",
              "      <td>18.000000</td>\n",
              "      <td>1361.850000</td>\n",
              "      <td>409.640000</td>\n",
              "      <td>550.000000</td>\n",
              "      <td>0.000000</td>\n",
              "      <td>1.000000</td>\n",
              "      <td>0.000000</td>\n",
              "      <td>0.000000</td>\n",
              "      <td>-3.400000</td>\n",
              "      <td>92.201000</td>\n",
              "      <td>-50.800000</td>\n",
              "      <td>0.634000</td>\n",
              "      <td>4963.600000</td>\n",
              "    </tr>\n",
              "    <tr>\n",
              "      <th>25%</th>\n",
              "      <td>32.000000</td>\n",
              "      <td>33684.665000</td>\n",
              "      <td>8695.800000</td>\n",
              "      <td>679.967500</td>\n",
              "      <td>102.000000</td>\n",
              "      <td>1.000000</td>\n",
              "      <td>999.000000</td>\n",
              "      <td>0.000000</td>\n",
              "      <td>-1.800000</td>\n",
              "      <td>93.075000</td>\n",
              "      <td>-42.700000</td>\n",
              "      <td>1.354000</td>\n",
              "      <td>5099.100000</td>\n",
              "    </tr>\n",
              "    <tr>\n",
              "      <th>50%</th>\n",
              "      <td>38.000000</td>\n",
              "      <td>48401.050000</td>\n",
              "      <td>12544.080000</td>\n",
              "      <td>1069.685000</td>\n",
              "      <td>179.000000</td>\n",
              "      <td>2.000000</td>\n",
              "      <td>999.000000</td>\n",
              "      <td>0.000000</td>\n",
              "      <td>1.100000</td>\n",
              "      <td>93.798000</td>\n",
              "      <td>-41.800000</td>\n",
              "      <td>4.857000</td>\n",
              "      <td>5191.000000</td>\n",
              "    </tr>\n",
              "    <tr>\n",
              "      <th>75%</th>\n",
              "      <td>47.000000</td>\n",
              "      <td>79801.467500</td>\n",
              "      <td>14725.280000</td>\n",
              "      <td>1965.197500</td>\n",
              "      <td>319.000000</td>\n",
              "      <td>3.000000</td>\n",
              "      <td>999.000000</td>\n",
              "      <td>0.000000</td>\n",
              "      <td>1.400000</td>\n",
              "      <td>93.994000</td>\n",
              "      <td>-36.400000</td>\n",
              "      <td>4.961000</td>\n",
              "      <td>5228.100000</td>\n",
              "    </tr>\n",
              "    <tr>\n",
              "      <th>max</th>\n",
              "      <td>70.000000</td>\n",
              "      <td>134904.850000</td>\n",
              "      <td>17988.680000</td>\n",
              "      <td>2100.000000</td>\n",
              "      <td>4918.000000</td>\n",
              "      <td>56.000000</td>\n",
              "      <td>999.000000</td>\n",
              "      <td>7.000000</td>\n",
              "      <td>1.400000</td>\n",
              "      <td>94.767000</td>\n",
              "      <td>-26.900000</td>\n",
              "      <td>5.045000</td>\n",
              "      <td>5228.100000</td>\n",
              "    </tr>\n",
              "  </tbody>\n",
              "</table>\n",
              "</div>"
            ],
            "text/plain": [
              "                VEK       HYPO_BAL  ...     EURIBOR3M   NR.EMPLOYED\n",
              "count  40761.000000   21342.000000  ...  40761.000000  40761.000000\n",
              "mean      39.636834   56811.018405  ...      3.650123   5168.475921\n",
              "std        9.721637   29878.664776  ...      1.720189     71.106836\n",
              "min       18.000000    1361.850000  ...      0.634000   4963.600000\n",
              "25%       32.000000   33684.665000  ...      1.354000   5099.100000\n",
              "50%       38.000000   48401.050000  ...      4.857000   5191.000000\n",
              "75%       47.000000   79801.467500  ...      4.961000   5228.100000\n",
              "max       70.000000  134904.850000  ...      5.045000   5228.100000\n",
              "\n",
              "[8 rows x 13 columns]"
            ]
          },
          "metadata": {
            "tags": []
          },
          "execution_count": 201
        }
      ]
    },
    {
      "cell_type": "code",
      "metadata": {
        "id": "W1YRLVJvweXl",
        "colab_type": "code",
        "outputId": "45bfd121-5023-4f4b-8d10-078e387c5394",
        "colab": {
          "base_uri": "https://localhost:8080/",
          "height": 162
        }
      },
      "source": [
        "data.groupby('Y').median()"
      ],
      "execution_count": 202,
      "outputs": [
        {
          "output_type": "execute_result",
          "data": {
            "text/html": [
              "<div>\n",
              "<style scoped>\n",
              "    .dataframe tbody tr th:only-of-type {\n",
              "        vertical-align: middle;\n",
              "    }\n",
              "\n",
              "    .dataframe tbody tr th {\n",
              "        vertical-align: top;\n",
              "    }\n",
              "\n",
              "    .dataframe thead th {\n",
              "        text-align: right;\n",
              "    }\n",
              "</style>\n",
              "<table border=\"1\" class=\"dataframe\">\n",
              "  <thead>\n",
              "    <tr style=\"text-align: right;\">\n",
              "      <th></th>\n",
              "      <th>VEK</th>\n",
              "      <th>HYPO_BAL</th>\n",
              "      <th>SU_BAL</th>\n",
              "      <th>KREDIT_TXN</th>\n",
              "      <th>TRVANIE</th>\n",
              "      <th>POCET_KAMPANI</th>\n",
              "      <th>POCET_DNI</th>\n",
              "      <th>POCET_KONTAKTOVANI</th>\n",
              "      <th>EMP.VAR.RATE</th>\n",
              "      <th>CONS.PRICE.IDX</th>\n",
              "      <th>CONS.CONF.IDX</th>\n",
              "      <th>EURIBOR3M</th>\n",
              "      <th>NR.EMPLOYED</th>\n",
              "    </tr>\n",
              "    <tr>\n",
              "      <th>Y</th>\n",
              "      <th></th>\n",
              "      <th></th>\n",
              "      <th></th>\n",
              "      <th></th>\n",
              "      <th></th>\n",
              "      <th></th>\n",
              "      <th></th>\n",
              "      <th></th>\n",
              "      <th></th>\n",
              "      <th></th>\n",
              "      <th></th>\n",
              "      <th></th>\n",
              "      <th></th>\n",
              "    </tr>\n",
              "  </thead>\n",
              "  <tbody>\n",
              "    <tr>\n",
              "      <th>no</th>\n",
              "      <td>38</td>\n",
              "      <td>48552.84</td>\n",
              "      <td>12567.185</td>\n",
              "      <td>1065.44</td>\n",
              "      <td>164</td>\n",
              "      <td>2</td>\n",
              "      <td>999</td>\n",
              "      <td>0</td>\n",
              "      <td>1.1</td>\n",
              "      <td>93.918</td>\n",
              "      <td>-41.8</td>\n",
              "      <td>4.857</td>\n",
              "      <td>5195.8</td>\n",
              "    </tr>\n",
              "    <tr>\n",
              "      <th>yes</th>\n",
              "      <td>36</td>\n",
              "      <td>46682.23</td>\n",
              "      <td>12181.835</td>\n",
              "      <td>1452.53</td>\n",
              "      <td>460</td>\n",
              "      <td>2</td>\n",
              "      <td>999</td>\n",
              "      <td>0</td>\n",
              "      <td>-1.8</td>\n",
              "      <td>93.200</td>\n",
              "      <td>-40.8</td>\n",
              "      <td>1.270</td>\n",
              "      <td>5099.1</td>\n",
              "    </tr>\n",
              "  </tbody>\n",
              "</table>\n",
              "</div>"
            ],
            "text/plain": [
              "     VEK  HYPO_BAL     SU_BAL  ...  CONS.CONF.IDX  EURIBOR3M  NR.EMPLOYED\n",
              "Y                              ...                                       \n",
              "no    38  48552.84  12567.185  ...          -41.8      4.857       5195.8\n",
              "yes   36  46682.23  12181.835  ...          -40.8      1.270       5099.1\n",
              "\n",
              "[2 rows x 13 columns]"
            ]
          },
          "metadata": {
            "tags": []
          },
          "execution_count": 202
        }
      ]
    },
    {
      "cell_type": "code",
      "metadata": {
        "id": "f00V9-9_wmRX",
        "colab_type": "code",
        "outputId": "147a97ac-76d3-4dba-f8ac-1379636eb2fb",
        "colab": {
          "base_uri": "https://localhost:8080/",
          "height": 162
        }
      },
      "source": [
        "data.groupby('Y').mean()"
      ],
      "execution_count": 203,
      "outputs": [
        {
          "output_type": "execute_result",
          "data": {
            "text/html": [
              "<div>\n",
              "<style scoped>\n",
              "    .dataframe tbody tr th:only-of-type {\n",
              "        vertical-align: middle;\n",
              "    }\n",
              "\n",
              "    .dataframe tbody tr th {\n",
              "        vertical-align: top;\n",
              "    }\n",
              "\n",
              "    .dataframe thead th {\n",
              "        text-align: right;\n",
              "    }\n",
              "</style>\n",
              "<table border=\"1\" class=\"dataframe\">\n",
              "  <thead>\n",
              "    <tr style=\"text-align: right;\">\n",
              "      <th></th>\n",
              "      <th>VEK</th>\n",
              "      <th>HYPO_BAL</th>\n",
              "      <th>SU_BAL</th>\n",
              "      <th>KREDIT_TXN</th>\n",
              "      <th>TRVANIE</th>\n",
              "      <th>POCET_KAMPANI</th>\n",
              "      <th>POCET_DNI</th>\n",
              "      <th>POCET_KONTAKTOVANI</th>\n",
              "      <th>EMP.VAR.RATE</th>\n",
              "      <th>CONS.PRICE.IDX</th>\n",
              "      <th>CONS.CONF.IDX</th>\n",
              "      <th>EURIBOR3M</th>\n",
              "      <th>NR.EMPLOYED</th>\n",
              "    </tr>\n",
              "    <tr>\n",
              "      <th>Y</th>\n",
              "      <th></th>\n",
              "      <th></th>\n",
              "      <th></th>\n",
              "      <th></th>\n",
              "      <th></th>\n",
              "      <th></th>\n",
              "      <th></th>\n",
              "      <th></th>\n",
              "      <th></th>\n",
              "      <th></th>\n",
              "      <th></th>\n",
              "      <th></th>\n",
              "      <th></th>\n",
              "    </tr>\n",
              "  </thead>\n",
              "  <tbody>\n",
              "    <tr>\n",
              "      <th>no</th>\n",
              "      <td>39.686690</td>\n",
              "      <td>57033.245093</td>\n",
              "      <td>11735.675374</td>\n",
              "      <td>1244.125701</td>\n",
              "      <td>220.894178</td>\n",
              "      <td>2.636339</td>\n",
              "      <td>984.679147</td>\n",
              "      <td>0.129718</td>\n",
              "      <td>0.265074</td>\n",
              "      <td>93.607095</td>\n",
              "      <td>-40.617858</td>\n",
              "      <td>3.829369</td>\n",
              "      <td>5177.037718</td>\n",
              "    </tr>\n",
              "    <tr>\n",
              "      <th>yes</th>\n",
              "      <td>39.228584</td>\n",
              "      <td>55052.968697</td>\n",
              "      <td>11115.436528</td>\n",
              "      <td>1363.870900</td>\n",
              "      <td>562.931695</td>\n",
              "      <td>2.064472</td>\n",
              "      <td>797.299820</td>\n",
              "      <td>0.477232</td>\n",
              "      <td>-1.182890</td>\n",
              "      <td>93.361453</td>\n",
              "      <td>-39.964067</td>\n",
              "      <td>2.182340</td>\n",
              "      <td>5098.366073</td>\n",
              "    </tr>\n",
              "  </tbody>\n",
              "</table>\n",
              "</div>"
            ],
            "text/plain": [
              "           VEK      HYPO_BAL  ...  EURIBOR3M  NR.EMPLOYED\n",
              "Y                             ...                        \n",
              "no   39.686690  57033.245093  ...   3.829369  5177.037718\n",
              "yes  39.228584  55052.968697  ...   2.182340  5098.366073\n",
              "\n",
              "[2 rows x 13 columns]"
            ]
          },
          "metadata": {
            "tags": []
          },
          "execution_count": 203
        }
      ]
    },
    {
      "cell_type": "code",
      "metadata": {
        "id": "QU_96QYUQlwr",
        "colab_type": "code",
        "outputId": "64d2e335-0445-4a1b-906a-c97d44115e51",
        "colab": {
          "base_uri": "https://localhost:8080/",
          "height": 389
        }
      },
      "source": [
        "#histogramy numerickych premennych\n",
        "numerical = ['VEK', 'HYPO_BAL', 'SU_BAL', 'KREDIT_TXN', 'TRVANIE', 'POCET_KAMPANI', 'POCET_DNI', 'POCET_KONTAKTOVANI', 'EMP.VAR.RATE', 'CONS.PRICE.IDX', 'CONS.CONF.IDX', 'EURIBOR3M', 'NR.EMPLOYED']\n",
        "\n",
        "data[numerical].hist(bins=15, figsize=(20, 5), layout=(2, 7))\n",
        "plt.tight_layout()"
      ],
      "execution_count": 205,
      "outputs": [
        {
          "output_type": "display_data",
          "data": {
            "image/png": "[encoded data removed]",
            "text/plain": [
              "<Figure size 1440x360 with 14 Axes>"
            ]
          },
          "metadata": {
            "tags": []
          }
        }
      ]
    },
    {
      "cell_type": "code",
      "metadata": {
        "id": "ew_O62j-SZGz",
        "colab_type": "code",
        "outputId": "a6096ca9-e077-4b1b-b906-b77103a1a642",
        "colab": {
          "base_uri": "https://localhost:8080/",
          "height": 730
        }
      },
      "source": [
        "#histogramy kategorickych premennych\n",
        "categorical = ['ZAMESTNANIE', 'RODINNY_STAV', 'VZDELANIE', 'DEFAULT', 'HYPO', 'SU', 'KONTACT_TYP', 'MESIAC', 'DEN', 'VYSLEDOK_KAMPANE', 'Y']\n",
        "\n",
        "fig, ax = plt.subplots(3, 4, figsize=(10, 10))\n",
        "for variable, subplot in zip(categorical, ax.flatten()):\n",
        "    sns.countplot(data[variable], ax=subplot)\n",
        "    plt.tight_layout()\n",
        "    for label in subplot.get_xticklabels():\n",
        "        label.set_rotation(90)"
      ],
      "execution_count": 206,
      "outputs": [
        {
          "output_type": "display_data",
          "data": {
            "image/png": "[encoded data removed]",
            "text/plain": [
              "<Figure size 720x720 with 12 Axes>"
            ]
          },
          "metadata": {
            "tags": []
          }
        }
      ]
    },
    {
      "cell_type": "code",
      "metadata": {
        "id": "xyBdPv8WySTM",
        "colab_type": "code",
        "colab": {
          "base_uri": "https://localhost:8080/",
          "height": 68
        },
        "outputId": "e22380a4-5fea-49ee-efc8-dfa68c9b9ad0"
      },
      "source": [
        "#zastupenie zavislej premennej\n",
        "print(data['Y'].value_counts()) "
      ],
      "execution_count": 211,
      "outputs": [
        {
          "output_type": "stream",
          "text": [
            "no     36325\n",
            "yes     4436\n",
            "Name: Y, dtype: int64\n"
          ],
          "name": "stdout"
        }
      ]
    },
    {
      "cell_type": "code",
      "metadata": {
        "id": "mcNYQcKEPt4u",
        "colab_type": "code",
        "outputId": "96a55e81-db0c-4132-d0ea-8314bf226223",
        "colab": {
          "base_uri": "https://localhost:8080/",
          "height": 737
        }
      },
      "source": [
        "#boxplot len medzi Y a numerical variables\n",
        "fig, ax = plt.subplots(4,4, figsize=(10, 10))\n",
        "for var, subplot in zip(numerical, ax.flatten()):\n",
        "  sns.boxplot(x='Y', y=var, data=data, ax=subplot)\n",
        "  plt.tight_layout()\n",
        "  for label in subplot.get_xticklabels():\n",
        "        label.set_rotation(90)"
      ],
      "execution_count": 207,
      "outputs": [
        {
          "output_type": "display_data",
          "data": {
            "image/png": "[encoded data removed]",
            "text/plain": [
              "<Figure size 720x720 with 16 Axes>"
            ]
          },
          "metadata": {
            "tags": []
          }
        }
      ]
    },
    {
      "cell_type": "code",
      "metadata": {
        "id": "U02uWrPqT3TF",
        "colab_type": "code",
        "outputId": "ec9c0b9e-af78-4a88-e75b-bd0f360d4e28",
        "colab": {
          "base_uri": "https://localhost:8080/",
          "height": 738
        }
      },
      "source": [
        "#relations among Y and categorical variables\n",
        "fig, ax = plt.subplots(2,5, figsize=(15, 10))\n",
        "for var, subplot in zip(categorical, ax.flatten()):\n",
        "  sns.countplot(x=var, hue='Y', data=data, ax=subplot)\n",
        "  plt.tight_layout()\n",
        "  for label in subplot.get_xticklabels():\n",
        "        label.set_rotation(90)"
      ],
      "execution_count": 208,
      "outputs": [
        {
          "output_type": "display_data",
          "data": {
            "image/png": "[encoded data removed]",
            "text/plain": [
              "<Figure size 1080x720 with 10 Axes>"
            ]
          },
          "metadata": {
            "tags": []
          }
        }
      ]
    },
    {
      "cell_type": "code",
      "metadata": {
        "id": "BmAMDs7aWCzl",
        "colab_type": "code",
        "outputId": "8092c3ee-64ba-4c8f-db51-18d37d4a8d20",
        "colab": {
          "base_uri": "https://localhost:8080/",
          "height": 818
        }
      },
      "source": [
        "#missing values\n",
        "print(data.isnull().sum()) #how many missing values in particular column\n",
        "sns.heatmap(data.isnull(), cbar=False)"
      ],
      "execution_count": 210,
      "outputs": [
        {
          "output_type": "stream",
          "text": [
            "VEK                       0\n",
            "ZAMESTNANIE             324\n",
            "RODINNY_STAV             80\n",
            "VZDELANIE              1702\n",
            "DEFAULT                8556\n",
            "HYPO                    980\n",
            "SU                      980\n",
            "HYPO_BAL              19419\n",
            "SU_BAL                34579\n",
            "KREDIT_TXN               17\n",
            "KONTACT_TYP               0\n",
            "MESIAC                    0\n",
            "DEN                       0\n",
            "TRVANIE                   0\n",
            "POCET_KAMPANI             0\n",
            "POCET_DNI                 0\n",
            "POCET_KONTAKTOVANI        0\n",
            "VYSLEDOK_KAMPANE          0\n",
            "EMP.VAR.RATE              0\n",
            "CONS.PRICE.IDX            0\n",
            "CONS.CONF.IDX             0\n",
            "EURIBOR3M                 0\n",
            "NR.EMPLOYED               0\n",
            "Y                         0\n",
            "dtype: int64\n"
          ],
          "name": "stdout"
        },
        {
          "output_type": "execute_result",
          "data": {
            "text/plain": [
              "<matplotlib.axes._subplots.AxesSubplot at 0x7fbc7ad2a2e8>"
            ]
          },
          "metadata": {
            "tags": []
          },
          "execution_count": 210
        },
        {
          "output_type": "display_data",
          "data": {
            "image/png": "[encoded data removed]",
            "text/plain": [
              "<Figure size 432x288 with 1 Axes>"
            ]
          },
          "metadata": {
            "tags": []
          }
        }
      ]
    },
    {
      "cell_type": "code",
      "metadata": {
        "id": "ACmZ4fb1WiF5",
        "colab_type": "code",
        "outputId": "16b464e9-cfb1-4ff9-d05c-92fc1eeffa02",
        "colab": {
          "base_uri": "https://localhost:8080/",
          "height": 646
        }
      },
      "source": [
        "#v tychto stlpcoch mam missing values\n",
        "df = pd.concat([data.iloc[:,[1,2,3,4,5,6,7,8,9]].fillna(\"NAN\"),data.loc[:,'Y']],axis=1)\n",
        "\n",
        "#NAN podla toho v ktorej triede zavislej premennej\n",
        "for a in range(len(df.columns)):\n",
        "  print(df[df.iloc[:,a]=='NAN'].groupby(['Y',df.iloc[:,a]])['Y'].count())"
      ],
      "execution_count": 213,
      "outputs": [
        {
          "output_type": "stream",
          "text": [
            "Y    ZAMESTNANIE\n",
            "no   NAN            292\n",
            "yes  NAN             32\n",
            "Name: Y, dtype: int64\n",
            "Y    RODINNY_STAV\n",
            "no   NAN             68\n",
            "yes  NAN             12\n",
            "Name: Y, dtype: int64\n",
            "Y    VZDELANIE\n",
            "no   NAN          1479\n",
            "yes  NAN           223\n",
            "Name: Y, dtype: int64\n",
            "Y    DEFAULT\n",
            "no   NAN        8136\n",
            "yes  NAN         420\n",
            "Name: Y, dtype: int64\n",
            "Y    HYPO\n",
            "no   NAN     878\n",
            "yes  NAN     102\n",
            "Name: Y, dtype: int64\n",
            "Y    SU \n",
            "no   NAN    878\n",
            "yes  NAN    102\n",
            "Name: Y, dtype: int64\n",
            "Y    HYPO_BAL\n",
            "no   NAN         17378\n",
            "yes  NAN          2041\n",
            "Name: Y, dtype: int64\n",
            "Y    SU_BAL\n",
            "no   NAN       30791\n",
            "yes  NAN        3788\n",
            "Name: Y, dtype: int64\n",
            "Y    KREDIT_TXN\n",
            "no   NAN           14\n",
            "yes  NAN            3\n",
            "Name: Y, dtype: int64\n",
            "Series([], Name: Y, dtype: int64)\n"
          ],
          "name": "stdout"
        }
      ]
    },
    {
      "cell_type": "code",
      "metadata": {
        "id": "tkIO6cQZW_Oo",
        "colab_type": "code",
        "colab": {}
      },
      "source": [
        "#nahradenie missing values v stlpcoch HYPO_BAL, SU_BAL nulou, ak vieme, či ma HYPO alebo SU\n",
        "for i in range(len(data.iloc[:,0])):\n",
        "  if ((data.loc[i,'HYPO'] == \"no\") & ((data.loc[i,'HYPO_BAL'] > 0) == False)):\n",
        "    data.loc[i,'HYPO_BAL'] = 0 \n",
        "  if ((data.loc[i,'SU'] == \"no\") & ((data.loc[i,'SU_BAL'] > 0) == False)):\n",
        "    data.loc[i,'SU_BAL'] = 0 "
      ],
      "execution_count": 0,
      "outputs": []
    },
    {
      "cell_type": "code",
      "metadata": {
        "id": "5ip63FNSc_uV",
        "colab_type": "code",
        "outputId": "a217d66f-b871-429e-dd75-0fa28ed124a5",
        "colab": {
          "base_uri": "https://localhost:8080/",
          "height": 85
        }
      },
      "source": [
        "#ZAMESTNANIE, RODINNY_STAV, VZDELANIE - Nan nahradim unknown naspať, lebo aj to nam môže niečo hovoriť o klientovi\n",
        "data.loc[:,'ZAMESTNANIE'].fillna('unknown', inplace=True)\n",
        "data.loc[:,'RODINNY_STAV'].fillna('unknown', inplace=True)\n",
        "data.loc[:,'VZDELANIE'].fillna('unknown', inplace=True)\n",
        "\n",
        "#pre kontrolu\n",
        "print(data.loc[:,\"ZAMESTNANIE\"].unique())\n",
        "print(data.loc[:,\"RODINNY_STAV\"].unique())\n",
        "print(data.loc[:,\"VZDELANIE\"].unique())"
      ],
      "execution_count": 216,
      "outputs": [
        {
          "output_type": "stream",
          "text": [
            "['student' 'entrepreneur' 'services' 'blue-collar' 'admin.' 'technician'\n",
            " 'unemployed' 'self-employed' 'management' 'housemaid' 'retired' 'unknown']\n",
            "['single' 'married' 'divorced' 'unknown']\n",
            "['high.school' 'basic' 'unknown' 'university.master' 'university.bachelor']\n"
          ],
          "name": "stdout"
        }
      ]
    },
    {
      "cell_type": "code",
      "metadata": {
        "id": "0XovR0a3jbxl",
        "colab_type": "code",
        "outputId": "fabe52ce-70d5-421c-d506-aef4473805c7",
        "colab": {
          "base_uri": "https://localhost:8080/",
          "height": 347
        }
      },
      "source": [
        "#pozriem sa na stlpec DEFAULT\n",
        "sns.countplot(x='DEFAULT', hue='Y', data=data)\n",
        "\n",
        "#zastupenie DEFAULT podla Y\n",
        "print(data['DEFAULT'].value_counts())\n",
        "\n",
        "#stlpec DEFAULT cely zmazem, kedze takmer vobec nevysvetluje Y\n",
        "data.drop(['DEFAULT'], axis=1, inplace=True)\n",
        "#pre kontrolu\n",
        "data.shape"
      ],
      "execution_count": 218,
      "outputs": [
        {
          "output_type": "stream",
          "text": [
            "no     32202\n",
            "yes        3\n",
            "Name: DEFAULT, dtype: int64\n"
          ],
          "name": "stdout"
        },
        {
          "output_type": "execute_result",
          "data": {
            "text/plain": [
              "(40761, 23)"
            ]
          },
          "metadata": {
            "tags": []
          },
          "execution_count": 218
        },
        {
          "output_type": "display_data",
          "data": {
            "image/png": "[encoded data removed]",
            "text/plain": [
              "<Figure size 432x288 with 1 Axes>"
            ]
          },
          "metadata": {
            "tags": []
          }
        }
      ]
    },
    {
      "cell_type": "code",
      "metadata": {
        "id": "q6x62Kh6PJoi",
        "colab_type": "code",
        "outputId": "1e48fdfe-314f-4701-e472-7ef6c9598848",
        "colab": {
          "base_uri": "https://localhost:8080/",
          "height": 330
        }
      },
      "source": [
        "#pozriem sa na stlpec HYPO\n",
        "sns.countplot(x=\"HYPO\", hue='Y', data=data)\n",
        "print(data['HYPO'].value_counts())"
      ],
      "execution_count": 219,
      "outputs": [
        {
          "output_type": "stream",
          "text": [
            "yes    21342\n",
            "no     18439\n",
            "Name: HYPO, dtype: int64\n"
          ],
          "name": "stdout"
        },
        {
          "output_type": "display_data",
          "data": {
            "image/png": "[encoded data removed]",
            "text/plain": [
              "<Figure size 432x288 with 1 Axes>"
            ]
          },
          "metadata": {
            "tags": []
          }
        }
      ]
    },
    {
      "cell_type": "code",
      "metadata": {
        "id": "PE86Ksgrt6Zw",
        "colab_type": "code",
        "outputId": "34353e7c-6f1f-4a5e-dfac-eb09cb39163d",
        "colab": {
          "base_uri": "https://localhost:8080/",
          "height": 296
        }
      },
      "source": [
        "#pozriem sa na stlpec SU\n",
        "sns.countplot(x=\"SU\", hue='Y', data=data)"
      ],
      "execution_count": 220,
      "outputs": [
        {
          "output_type": "execute_result",
          "data": {
            "text/plain": [
              "<matplotlib.axes._subplots.AxesSubplot at 0x7fbc7ab0f9e8>"
            ]
          },
          "metadata": {
            "tags": []
          },
          "execution_count": 220
        },
        {
          "output_type": "display_data",
          "data": {
            "image/png": "[encoded data removed]",
            "text/plain": [
              "<Figure size 432x288 with 1 Axes>"
            ]
          },
          "metadata": {
            "tags": []
          }
        }
      ]
    },
    {
      "cell_type": "code",
      "metadata": {
        "id": "zalIPWWyPP6E",
        "colab_type": "code",
        "outputId": "c12cddec-8f92-441b-88f5-7bc15eaad11f",
        "colab": {
          "base_uri": "https://localhost:8080/",
          "height": 51
        }
      },
      "source": [
        "#zmazem riadky, kde HYPO, SU, HYPO_BAL, SU_BAL su nan, a KREDIT_TXN\n",
        "print(data.shape) #40 761\n",
        "data.dropna(subset=[\"HYPO\"], inplace=True)\n",
        "data.dropna(subset=[\"KREDIT_TXN\"], inplace=True)\n",
        "#pre kontrolu\n",
        "print(data.shape) #39 764 x 23"
      ],
      "execution_count": 221,
      "outputs": [
        {
          "output_type": "stream",
          "text": [
            "(40761, 23)\n",
            "(39764, 23)\n"
          ],
          "name": "stdout"
        }
      ]
    },
    {
      "cell_type": "code",
      "metadata": {
        "id": "Wdsv9hF1PJ59",
        "colab_type": "code",
        "outputId": "1fb79e6d-7e03-4126-e2a7-f385090f040c",
        "colab": {
          "base_uri": "https://localhost:8080/",
          "height": 425
        }
      },
      "source": [
        "#missing values pre kontrolu\n",
        "data.isna().sum()"
      ],
      "execution_count": 222,
      "outputs": [
        {
          "output_type": "execute_result",
          "data": {
            "text/plain": [
              "VEK                   0\n",
              "ZAMESTNANIE           0\n",
              "RODINNY_STAV          0\n",
              "VZDELANIE             0\n",
              "HYPO                  0\n",
              "SU                    0\n",
              "HYPO_BAL              0\n",
              "SU_BAL                0\n",
              "KREDIT_TXN            0\n",
              "KONTACT_TYP           0\n",
              "MESIAC                0\n",
              "DEN                   0\n",
              "TRVANIE               0\n",
              "POCET_KAMPANI         0\n",
              "POCET_DNI             0\n",
              "POCET_KONTAKTOVANI    0\n",
              "VYSLEDOK_KAMPANE      0\n",
              "EMP.VAR.RATE          0\n",
              "CONS.PRICE.IDX        0\n",
              "CONS.CONF.IDX         0\n",
              "EURIBOR3M             0\n",
              "NR.EMPLOYED           0\n",
              "Y                     0\n",
              "dtype: int64"
            ]
          },
          "metadata": {
            "tags": []
          },
          "execution_count": 222
        }
      ]
    },
    {
      "cell_type": "code",
      "metadata": {
        "id": "AfHNi0RTeULS",
        "colab_type": "code",
        "outputId": "a9c6d09f-73c0-42e3-a35c-0741c5f13d01",
        "colab": {
          "base_uri": "https://localhost:8080/",
          "height": 68
        }
      },
      "source": [
        "#zavisla premenna po odstraneni missing values\n",
        "print(data['Y'].value_counts())"
      ],
      "execution_count": 223,
      "outputs": [
        {
          "output_type": "stream",
          "text": [
            "no     35433\n",
            "yes     4331\n",
            "Name: Y, dtype: int64\n"
          ],
          "name": "stdout"
        }
      ]
    },
    {
      "cell_type": "code",
      "metadata": {
        "id": "jKyVem-m2_Pc",
        "colab_type": "code",
        "colab": {}
      },
      "source": [
        "#categorical = ['ZAMESTNANIE', 'RODINNY_STAV', 'VZDELANIE', 'DEFAULT', 'HYPO', 'SU', 'KONTACT_TYP', 'MESIAC', 'DEN', 'VYSLEDOK_KAMPANE', 'Y']\n",
        "#numerical = ['VEK', 'HYPO_BAL', 'SU_BAL', 'KREDIT_TXN', 'TRVANIE', 'POCET_KAMPANI', 'POCET_DNI', 'POCET_KONTAKTOVANI', 'EMP.VAR.RATE', 'CONS.PRICE.IDX', 'CONS.CONF.IDX', 'EURIBOR3M', 'NR.EMPLOYED']\n",
        "\n",
        "#zmazem nazov stlpca, kedze som cely stlpec odstranila\n",
        "categorical.remove('DEFAULT')\n"
      ],
      "execution_count": 0,
      "outputs": []
    },
    {
      "cell_type": "code",
      "metadata": {
        "id": "MeoRIukF5Cnm",
        "colab_type": "code",
        "colab": {
          "base_uri": "https://localhost:8080/",
          "height": 493
        },
        "outputId": "b14880d1-cd98-490d-ee73-103e5f66d107"
      },
      "source": [
        "#creating dummies\n",
        "dummies = pd.get_dummies(data.loc[:,categorical],drop_first=True)\n",
        "print(dummies)\n",
        "numericke = data.loc[:,numerical]\n",
        "print(numericke)\n"
      ],
      "execution_count": 226,
      "outputs": [
        {
          "output_type": "stream",
          "text": [
            "       ZAMESTNANIE_blue-collar  ...  Y_yes\n",
            "0                            0  ...      0\n",
            "1                            0  ...      0\n",
            "2                            0  ...      0\n",
            "3                            0  ...      0\n",
            "4                            0  ...      1\n",
            "...                        ...  ...    ...\n",
            "40756                        0  ...      1\n",
            "40757                        0  ...      1\n",
            "40758                        0  ...      0\n",
            "40759                        0  ...      0\n",
            "40760                        0  ...      1\n",
            "\n",
            "[39764 rows x 37 columns]\n",
            "       VEK  HYPO_BAL   SU_BAL  ...  CONS.CONF.IDX  EURIBOR3M  NR.EMPLOYED\n",
            "0       18      0.00     0.00  ...          -42.0      4.245       5195.8\n",
            "1       18  16018.57  3543.48  ...          -50.0      1.687       5099.1\n",
            "2       18      0.00     0.00  ...          -47.1      1.365       5099.1\n",
            "3       18  18691.97  2303.03  ...          -47.1      1.365       5099.1\n",
            "4       18      0.00     0.00  ...          -46.2      1.259       5099.1\n",
            "...    ...       ...      ...  ...            ...        ...          ...\n",
            "40756   70   2138.67     0.00  ...          -38.3      0.904       4991.6\n",
            "40757   70      0.00     0.00  ...          -38.3      0.899       4991.6\n",
            "40758   70   3891.03     0.00  ...          -37.5      0.886       4963.6\n",
            "40759   70      0.00     0.00  ...          -49.5      0.965       4963.6\n",
            "40760   70      0.00     0.00  ...          -49.5      0.987       4963.6\n",
            "\n",
            "[39764 rows x 13 columns]\n"
          ],
          "name": "stdout"
        }
      ]
    },
    {
      "cell_type": "code",
      "metadata": {
        "id": "5xf9BlfzpssO",
        "colab_type": "code",
        "outputId": "6142a2d3-daa4-46ac-aa37-cd44cb057205",
        "colab": {
          "base_uri": "https://localhost:8080/",
          "height": 258
        }
      },
      "source": [
        "#spojenie dummies a numerickych premennych\n",
        "data_new = pd.concat([dummies, numericke],axis=1)\n",
        "\n",
        "print(data_new.shape)\n",
        "data_new.head()\n"
      ],
      "execution_count": 227,
      "outputs": [
        {
          "output_type": "stream",
          "text": [
            "(39764, 50)\n"
          ],
          "name": "stdout"
        },
        {
          "output_type": "execute_result",
          "data": {
            "text/html": [
              "<div>\n",
              "<style scoped>\n",
              "    .dataframe tbody tr th:only-of-type {\n",
              "        vertical-align: middle;\n",
              "    }\n",
              "\n",
              "    .dataframe tbody tr th {\n",
              "        vertical-align: top;\n",
              "    }\n",
              "\n",
              "    .dataframe thead th {\n",
              "        text-align: right;\n",
              "    }\n",
              "</style>\n",
              "<table border=\"1\" class=\"dataframe\">\n",
              "  <thead>\n",
              "    <tr style=\"text-align: right;\">\n",
              "      <th></th>\n",
              "      <th>ZAMESTNANIE_blue-collar</th>\n",
              "      <th>ZAMESTNANIE_entrepreneur</th>\n",
              "      <th>ZAMESTNANIE_housemaid</th>\n",
              "      <th>ZAMESTNANIE_management</th>\n",
              "      <th>ZAMESTNANIE_retired</th>\n",
              "      <th>ZAMESTNANIE_self-employed</th>\n",
              "      <th>ZAMESTNANIE_services</th>\n",
              "      <th>ZAMESTNANIE_student</th>\n",
              "      <th>ZAMESTNANIE_technician</th>\n",
              "      <th>ZAMESTNANIE_unemployed</th>\n",
              "      <th>ZAMESTNANIE_unknown</th>\n",
              "      <th>RODINNY_STAV_married</th>\n",
              "      <th>RODINNY_STAV_single</th>\n",
              "      <th>RODINNY_STAV_unknown</th>\n",
              "      <th>VZDELANIE_high.school</th>\n",
              "      <th>VZDELANIE_university.bachelor</th>\n",
              "      <th>VZDELANIE_university.master</th>\n",
              "      <th>VZDELANIE_unknown</th>\n",
              "      <th>HYPO_yes</th>\n",
              "      <th>SU_yes</th>\n",
              "      <th>KONTACT_TYP_telephone</th>\n",
              "      <th>MESIAC_aug</th>\n",
              "      <th>MESIAC_dec</th>\n",
              "      <th>MESIAC_jul</th>\n",
              "      <th>MESIAC_jun</th>\n",
              "      <th>MESIAC_mar</th>\n",
              "      <th>MESIAC_may</th>\n",
              "      <th>MESIAC_nov</th>\n",
              "      <th>MESIAC_oct</th>\n",
              "      <th>MESIAC_sep</th>\n",
              "      <th>DEN_mon</th>\n",
              "      <th>DEN_thu</th>\n",
              "      <th>DEN_tue</th>\n",
              "      <th>DEN_wed</th>\n",
              "      <th>VYSLEDOK_KAMPANE_nonexistent</th>\n",
              "      <th>VYSLEDOK_KAMPANE_success</th>\n",
              "      <th>Y_yes</th>\n",
              "      <th>VEK</th>\n",
              "      <th>HYPO_BAL</th>\n",
              "      <th>SU_BAL</th>\n",
              "      <th>KREDIT_TXN</th>\n",
              "      <th>TRVANIE</th>\n",
              "      <th>POCET_KAMPANI</th>\n",
              "      <th>POCET_DNI</th>\n",
              "      <th>POCET_KONTAKTOVANI</th>\n",
              "      <th>EMP.VAR.RATE</th>\n",
              "      <th>CONS.PRICE.IDX</th>\n",
              "      <th>CONS.CONF.IDX</th>\n",
              "      <th>EURIBOR3M</th>\n",
              "      <th>NR.EMPLOYED</th>\n",
              "    </tr>\n",
              "  </thead>\n",
              "  <tbody>\n",
              "    <tr>\n",
              "      <th>0</th>\n",
              "      <td>0</td>\n",
              "      <td>0</td>\n",
              "      <td>0</td>\n",
              "      <td>0</td>\n",
              "      <td>0</td>\n",
              "      <td>0</td>\n",
              "      <td>0</td>\n",
              "      <td>1</td>\n",
              "      <td>0</td>\n",
              "      <td>0</td>\n",
              "      <td>0</td>\n",
              "      <td>0</td>\n",
              "      <td>1</td>\n",
              "      <td>0</td>\n",
              "      <td>1</td>\n",
              "      <td>0</td>\n",
              "      <td>0</td>\n",
              "      <td>0</td>\n",
              "      <td>0</td>\n",
              "      <td>0</td>\n",
              "      <td>1</td>\n",
              "      <td>0</td>\n",
              "      <td>0</td>\n",
              "      <td>0</td>\n",
              "      <td>0</td>\n",
              "      <td>0</td>\n",
              "      <td>0</td>\n",
              "      <td>1</td>\n",
              "      <td>0</td>\n",
              "      <td>0</td>\n",
              "      <td>0</td>\n",
              "      <td>1</td>\n",
              "      <td>0</td>\n",
              "      <td>0</td>\n",
              "      <td>1</td>\n",
              "      <td>0</td>\n",
              "      <td>0</td>\n",
              "      <td>18</td>\n",
              "      <td>0.00</td>\n",
              "      <td>0.00</td>\n",
              "      <td>971.13</td>\n",
              "      <td>75</td>\n",
              "      <td>1</td>\n",
              "      <td>999</td>\n",
              "      <td>0</td>\n",
              "      <td>-0.1</td>\n",
              "      <td>93.200</td>\n",
              "      <td>-42.0</td>\n",
              "      <td>4.245</td>\n",
              "      <td>5195.8</td>\n",
              "    </tr>\n",
              "    <tr>\n",
              "      <th>1</th>\n",
              "      <td>0</td>\n",
              "      <td>0</td>\n",
              "      <td>0</td>\n",
              "      <td>0</td>\n",
              "      <td>0</td>\n",
              "      <td>0</td>\n",
              "      <td>0</td>\n",
              "      <td>1</td>\n",
              "      <td>0</td>\n",
              "      <td>0</td>\n",
              "      <td>0</td>\n",
              "      <td>0</td>\n",
              "      <td>1</td>\n",
              "      <td>0</td>\n",
              "      <td>1</td>\n",
              "      <td>0</td>\n",
              "      <td>0</td>\n",
              "      <td>0</td>\n",
              "      <td>1</td>\n",
              "      <td>1</td>\n",
              "      <td>0</td>\n",
              "      <td>0</td>\n",
              "      <td>0</td>\n",
              "      <td>0</td>\n",
              "      <td>0</td>\n",
              "      <td>1</td>\n",
              "      <td>0</td>\n",
              "      <td>0</td>\n",
              "      <td>0</td>\n",
              "      <td>0</td>\n",
              "      <td>0</td>\n",
              "      <td>0</td>\n",
              "      <td>1</td>\n",
              "      <td>0</td>\n",
              "      <td>1</td>\n",
              "      <td>0</td>\n",
              "      <td>0</td>\n",
              "      <td>18</td>\n",
              "      <td>16018.57</td>\n",
              "      <td>3543.48</td>\n",
              "      <td>999.15</td>\n",
              "      <td>103</td>\n",
              "      <td>1</td>\n",
              "      <td>999</td>\n",
              "      <td>0</td>\n",
              "      <td>-1.8</td>\n",
              "      <td>92.843</td>\n",
              "      <td>-50.0</td>\n",
              "      <td>1.687</td>\n",
              "      <td>5099.1</td>\n",
              "    </tr>\n",
              "    <tr>\n",
              "      <th>2</th>\n",
              "      <td>0</td>\n",
              "      <td>0</td>\n",
              "      <td>0</td>\n",
              "      <td>0</td>\n",
              "      <td>0</td>\n",
              "      <td>0</td>\n",
              "      <td>0</td>\n",
              "      <td>1</td>\n",
              "      <td>0</td>\n",
              "      <td>0</td>\n",
              "      <td>0</td>\n",
              "      <td>0</td>\n",
              "      <td>1</td>\n",
              "      <td>0</td>\n",
              "      <td>0</td>\n",
              "      <td>0</td>\n",
              "      <td>0</td>\n",
              "      <td>0</td>\n",
              "      <td>0</td>\n",
              "      <td>0</td>\n",
              "      <td>0</td>\n",
              "      <td>0</td>\n",
              "      <td>0</td>\n",
              "      <td>0</td>\n",
              "      <td>0</td>\n",
              "      <td>0</td>\n",
              "      <td>0</td>\n",
              "      <td>0</td>\n",
              "      <td>0</td>\n",
              "      <td>0</td>\n",
              "      <td>0</td>\n",
              "      <td>1</td>\n",
              "      <td>0</td>\n",
              "      <td>0</td>\n",
              "      <td>1</td>\n",
              "      <td>0</td>\n",
              "      <td>0</td>\n",
              "      <td>18</td>\n",
              "      <td>0.00</td>\n",
              "      <td>0.00</td>\n",
              "      <td>696.62</td>\n",
              "      <td>108</td>\n",
              "      <td>1</td>\n",
              "      <td>999</td>\n",
              "      <td>0</td>\n",
              "      <td>-1.8</td>\n",
              "      <td>93.075</td>\n",
              "      <td>-47.1</td>\n",
              "      <td>1.365</td>\n",
              "      <td>5099.1</td>\n",
              "    </tr>\n",
              "    <tr>\n",
              "      <th>3</th>\n",
              "      <td>0</td>\n",
              "      <td>0</td>\n",
              "      <td>0</td>\n",
              "      <td>0</td>\n",
              "      <td>0</td>\n",
              "      <td>0</td>\n",
              "      <td>0</td>\n",
              "      <td>1</td>\n",
              "      <td>0</td>\n",
              "      <td>0</td>\n",
              "      <td>0</td>\n",
              "      <td>0</td>\n",
              "      <td>1</td>\n",
              "      <td>0</td>\n",
              "      <td>0</td>\n",
              "      <td>0</td>\n",
              "      <td>0</td>\n",
              "      <td>0</td>\n",
              "      <td>1</td>\n",
              "      <td>1</td>\n",
              "      <td>0</td>\n",
              "      <td>0</td>\n",
              "      <td>0</td>\n",
              "      <td>0</td>\n",
              "      <td>0</td>\n",
              "      <td>0</td>\n",
              "      <td>0</td>\n",
              "      <td>0</td>\n",
              "      <td>0</td>\n",
              "      <td>0</td>\n",
              "      <td>0</td>\n",
              "      <td>1</td>\n",
              "      <td>0</td>\n",
              "      <td>0</td>\n",
              "      <td>1</td>\n",
              "      <td>0</td>\n",
              "      <td>0</td>\n",
              "      <td>18</td>\n",
              "      <td>18691.97</td>\n",
              "      <td>2303.03</td>\n",
              "      <td>576.59</td>\n",
              "      <td>184</td>\n",
              "      <td>2</td>\n",
              "      <td>999</td>\n",
              "      <td>0</td>\n",
              "      <td>-1.8</td>\n",
              "      <td>93.075</td>\n",
              "      <td>-47.1</td>\n",
              "      <td>1.365</td>\n",
              "      <td>5099.1</td>\n",
              "    </tr>\n",
              "    <tr>\n",
              "      <th>4</th>\n",
              "      <td>0</td>\n",
              "      <td>0</td>\n",
              "      <td>0</td>\n",
              "      <td>0</td>\n",
              "      <td>0</td>\n",
              "      <td>0</td>\n",
              "      <td>0</td>\n",
              "      <td>1</td>\n",
              "      <td>0</td>\n",
              "      <td>0</td>\n",
              "      <td>0</td>\n",
              "      <td>0</td>\n",
              "      <td>1</td>\n",
              "      <td>0</td>\n",
              "      <td>1</td>\n",
              "      <td>0</td>\n",
              "      <td>0</td>\n",
              "      <td>0</td>\n",
              "      <td>0</td>\n",
              "      <td>0</td>\n",
              "      <td>0</td>\n",
              "      <td>0</td>\n",
              "      <td>0</td>\n",
              "      <td>0</td>\n",
              "      <td>0</td>\n",
              "      <td>0</td>\n",
              "      <td>1</td>\n",
              "      <td>0</td>\n",
              "      <td>0</td>\n",
              "      <td>0</td>\n",
              "      <td>0</td>\n",
              "      <td>0</td>\n",
              "      <td>0</td>\n",
              "      <td>0</td>\n",
              "      <td>0</td>\n",
              "      <td>0</td>\n",
              "      <td>1</td>\n",
              "      <td>18</td>\n",
              "      <td>0.00</td>\n",
              "      <td>0.00</td>\n",
              "      <td>1095.12</td>\n",
              "      <td>271</td>\n",
              "      <td>1</td>\n",
              "      <td>999</td>\n",
              "      <td>1</td>\n",
              "      <td>-1.8</td>\n",
              "      <td>92.893</td>\n",
              "      <td>-46.2</td>\n",
              "      <td>1.259</td>\n",
              "      <td>5099.1</td>\n",
              "    </tr>\n",
              "  </tbody>\n",
              "</table>\n",
              "</div>"
            ],
            "text/plain": [
              "   ZAMESTNANIE_blue-collar  ZAMESTNANIE_entrepreneur  ...  EURIBOR3M  NR.EMPLOYED\n",
              "0                        0                         0  ...      4.245       5195.8\n",
              "1                        0                         0  ...      1.687       5099.1\n",
              "2                        0                         0  ...      1.365       5099.1\n",
              "3                        0                         0  ...      1.365       5099.1\n",
              "4                        0                         0  ...      1.259       5099.1\n",
              "\n",
              "[5 rows x 50 columns]"
            ]
          },
          "metadata": {
            "tags": []
          },
          "execution_count": 227
        }
      ]
    },
    {
      "cell_type": "code",
      "metadata": {
        "id": "zqLzd640zlUA",
        "colab_type": "code",
        "outputId": "10c1893f-3875-4312-b0cd-60fb775c8756",
        "colab": {
          "base_uri": "https://localhost:8080/",
          "height": 882
        }
      },
      "source": [
        "#correlation matrix (numerical variables and Y)\n",
        "data_cor = pd.concat([dummies['Y_yes'], numericke],axis=1)\n",
        "plt.figure(figsize=(13,13))\n",
        "sns.heatmap(data_cor.corr(),annot=True)"
      ],
      "execution_count": 228,
      "outputs": [
        {
          "output_type": "execute_result",
          "data": {
            "text/plain": [
              "<matplotlib.axes._subplots.AxesSubplot at 0x7fbc7a7da0f0>"
            ]
          },
          "metadata": {
            "tags": []
          },
          "execution_count": 228
        },
        {
          "output_type": "display_data",
          "data": {
            "image/png": "[encoded data removed]",
            "text/plain": [
              "<Figure size 936x936 with 2 Axes>"
            ]
          },
          "metadata": {
            "tags": []
          }
        }
      ]
    },
    {
      "cell_type": "code",
      "metadata": {
        "id": "629kH_aX619M",
        "colab_type": "code",
        "colab": {}
      },
      "source": [
        "#korelacna matiaca pre dummies\n",
        "#d_nazvy = data_new.columns[1:37]\n",
        "#d_nazvy \n",
        "#plt.figure(figsize=(15,15))\n",
        "#sns.heatmap(data_new.loc[:,d_nazvy].corr())"
      ],
      "execution_count": 0,
      "outputs": []
    },
    {
      "cell_type": "code",
      "metadata": {
        "id": "5Ieqrj4ayf5L",
        "colab_type": "code",
        "outputId": "64a7d476-4c05-41aa-9644-492f6a8a0d1a",
        "colab": {
          "base_uri": "https://localhost:8080/",
          "height": 544
        }
      },
      "source": [
        "#separate input features and target\n",
        "\n",
        "#input features\n",
        "X = data_new.drop('Y_yes', axis=1)\n",
        "#target variable\n",
        "y = data_new.loc[:,'Y_yes'].values \n",
        "print(X)\n",
        "print(y)\n",
        "print(X.columns)"
      ],
      "execution_count": 229,
      "outputs": [
        {
          "output_type": "stream",
          "text": [
            "       ZAMESTNANIE_blue-collar  ...  NR.EMPLOYED\n",
            "0                            0  ...       5195.8\n",
            "1                            0  ...       5099.1\n",
            "2                            0  ...       5099.1\n",
            "3                            0  ...       5099.1\n",
            "4                            0  ...       5099.1\n",
            "...                        ...  ...          ...\n",
            "40756                        0  ...       4991.6\n",
            "40757                        0  ...       4991.6\n",
            "40758                        0  ...       4963.6\n",
            "40759                        0  ...       4963.6\n",
            "40760                        0  ...       4963.6\n",
            "\n",
            "[39764 rows x 49 columns]\n",
            "[0 0 0 ... 0 0 1]\n",
            "Index(['ZAMESTNANIE_blue-collar', 'ZAMESTNANIE_entrepreneur',\n",
            "       'ZAMESTNANIE_housemaid', 'ZAMESTNANIE_management',\n",
            "       'ZAMESTNANIE_retired', 'ZAMESTNANIE_self-employed',\n",
            "       'ZAMESTNANIE_services', 'ZAMESTNANIE_student', 'ZAMESTNANIE_technician',\n",
            "       'ZAMESTNANIE_unemployed', 'ZAMESTNANIE_unknown', 'RODINNY_STAV_married',\n",
            "       'RODINNY_STAV_single', 'RODINNY_STAV_unknown', 'VZDELANIE_high.school',\n",
            "       'VZDELANIE_university.bachelor', 'VZDELANIE_university.master',\n",
            "       'VZDELANIE_unknown', 'HYPO_yes', 'SU_yes', 'KONTACT_TYP_telephone',\n",
            "       'MESIAC_aug', 'MESIAC_dec', 'MESIAC_jul', 'MESIAC_jun', 'MESIAC_mar',\n",
            "       'MESIAC_may', 'MESIAC_nov', 'MESIAC_oct', 'MESIAC_sep', 'DEN_mon',\n",
            "       'DEN_thu', 'DEN_tue', 'DEN_wed', 'VYSLEDOK_KAMPANE_nonexistent',\n",
            "       'VYSLEDOK_KAMPANE_success', 'VEK', 'HYPO_BAL', 'SU_BAL', 'KREDIT_TXN',\n",
            "       'TRVANIE', 'POCET_KAMPANI', 'POCET_DNI', 'POCET_KONTAKTOVANI',\n",
            "       'EMP.VAR.RATE', 'CONS.PRICE.IDX', 'CONS.CONF.IDX', 'EURIBOR3M',\n",
            "       'NR.EMPLOYED'],\n",
            "      dtype='object')\n"
          ],
          "name": "stdout"
        }
      ]
    },
    {
      "cell_type": "code",
      "metadata": {
        "id": "8nWT98r7RwzI",
        "colab_type": "code",
        "colab": {
          "base_uri": "https://localhost:8080/",
          "height": 1000
        },
        "outputId": "860b0535-0183-4f87-dfd5-b207618afa1d"
      },
      "source": [
        "#multicollinearity\n",
        "X_vif = X.to_numpy()\n",
        "\n",
        "for i in range(X_vif.shape[1]):\n",
        "  print(X.columns[i])\n",
        "  print(variance_inflation_factor(X_vif, i))"
      ],
      "execution_count": 230,
      "outputs": [
        {
          "output_type": "stream",
          "text": [
            "ZAMESTNANIE_blue-collar\n",
            "3.1078762617654627\n",
            "ZAMESTNANIE_entrepreneur\n",
            "1.1797979257060507\n",
            "ZAMESTNANIE_housemaid\n",
            "1.1827115441825478\n",
            "ZAMESTNANIE_management\n",
            "1.3428438668234426\n",
            "ZAMESTNANIE_retired\n",
            "1.33944711432612\n",
            "ZAMESTNANIE_self-employed\n",
            "1.1584051348744075\n",
            "ZAMESTNANIE_services\n",
            "1.5778748300448042\n",
            "ZAMESTNANIE_student\n",
            "1.2357906632148137\n",
            "ZAMESTNANIE_technician\n",
            "2.1103375628429335\n",
            "ZAMESTNANIE_unemployed\n",
            "1.12672570948374\n",
            "ZAMESTNANIE_unknown\n",
            "1.0803927667439137\n",
            "RODINNY_STAV_married\n",
            "6.651612277890698\n",
            "RODINNY_STAV_single\n",
            "4.097756091860753\n",
            "RODINNY_STAV_unknown\n",
            "1.0237687903192951\n",
            "VZDELANIE_high.school\n",
            "8.36984829851615\n",
            "VZDELANIE_university.bachelor\n",
            "18.859582537261986\n",
            "VZDELANIE_university.master\n",
            "98.83355295712829\n",
            "VZDELANIE_unknown\n",
            "1.2977163389887227\n",
            "HYPO_yes\n",
            "6.416444650917208\n",
            "SU_yes\n",
            "11.805970809498922\n",
            "KONTACT_TYP_telephone\n",
            "5.240084281499489\n",
            "MESIAC_aug\n",
            "8.495540207770146\n",
            "MESIAC_dec\n",
            "1.131371957394922\n",
            "MESIAC_jul\n",
            "5.588930327395188\n",
            "MESIAC_jun\n",
            "3.812619711008249\n",
            "MESIAC_mar\n",
            "1.2543346286674624\n",
            "MESIAC_may\n",
            "7.7502546825391905\n",
            "MESIAC_nov\n",
            "4.0191174332368105\n",
            "MESIAC_oct\n",
            "1.5583103953816169\n",
            "MESIAC_sep\n",
            "1.5012651189371051\n",
            "DEN_mon\n",
            "2.1074501827111587\n",
            "DEN_thu\n",
            "2.1257074819347213\n",
            "DEN_tue\n",
            "2.0558727436772846\n",
            "DEN_wed\n",
            "2.0615220393883145\n",
            "VYSLEDOK_KAMPANE_nonexistent\n",
            "39.59466033284618\n",
            "VYSLEDOK_KAMPANE_success\n",
            "11.609016019685992\n",
            "VEK\n",
            "30.359218929863008\n",
            "HYPO_BAL\n",
            "5.409759829778008\n",
            "SU_BAL\n",
            "11.74800429348483\n",
            "KREDIT_TXN\n",
            "318.4196702988149\n",
            "TRVANIE\n",
            "2.022279713523925\n",
            "POCET_KAMPANI\n",
            "1.9515499435666366\n",
            "POCET_DNI\n",
            "362.53214556698157\n",
            "POCET_KONTAKTOVANI\n",
            "6.834916234716562\n",
            "EMP.VAR.RATE\n",
            "94.59083887400635\n",
            "CONS.PRICE.IDX\n",
            "65260.30333147963\n",
            "CONS.CONF.IDX\n",
            "407.8669038142866\n",
            "EURIBOR3M\n",
            "811.569785918911\n",
            "NR.EMPLOYED\n",
            "82565.15256238902\n"
          ],
          "name": "stdout"
        }
      ]
    },
    {
      "cell_type": "code",
      "metadata": {
        "id": "XpRU7xsDSOv-",
        "colab_type": "code",
        "colab": {}
      },
      "source": [
        "#odstranenie kolinearnych stlpcov - postupne\n",
        "\n",
        "X = X.drop(['CONS.PRICE.IDX'], axis=1, inplace=False)\n",
        "X = X.drop(['NR.EMPLOYED'], axis=1, inplace=False)\n",
        "X = X.drop(['KREDIT_TXN'], axis=1, inplace=False)\n",
        "X = X.drop(['POCET_DNI'], axis=1, inplace=False)\n",
        "X = X.drop(['EURIBOR3M'], axis=1, inplace=False)\n",
        "X = X.drop(['CONS.CONF.IDX'], axis=1, inplace=False)\n",
        "X = X.drop(['VYSLEDOK_KAMPANE_nonexistent'], axis=1, inplace=False)\n",
        "X = X.drop(['SU_yes'], axis=1, inplace=False)\n",
        "X = X.drop(['VEK'], axis=1, inplace=False)\n",
        "X = X.drop(['HYPO_yes'], axis=1, inplace=False)\n",
        "X = X.drop(['RODINNY_STAV_married'], axis=1, inplace=False)\n",
        "\n",
        "#uz mi nezostali ziadne premenne s vif>5\n",
        "X_vif = X.to_numpy()\n",
        "for i in range(X_vif.shape[1]):\n",
        "  vif = variance_inflation_factor(X_vif, i)\n",
        "  if vif > 5:\n",
        "    print(X.columns[i])\n",
        "    print(vif)\n",
        "  "
      ],
      "execution_count": 0,
      "outputs": []
    },
    {
      "cell_type": "code",
      "metadata": {
        "id": "QYo-UbtqZRL0",
        "colab_type": "code",
        "colab": {
          "base_uri": "https://localhost:8080/",
          "height": 456
        },
        "outputId": "345189ee-d639-478e-ff4b-a576a65ea0b1"
      },
      "source": [
        "#pre kontrolu\n",
        "X"
      ],
      "execution_count": 232,
      "outputs": [
        {
          "output_type": "execute_result",
          "data": {
            "text/html": [
              "<div>\n",
              "<style scoped>\n",
              "    .dataframe tbody tr th:only-of-type {\n",
              "        vertical-align: middle;\n",
              "    }\n",
              "\n",
              "    .dataframe tbody tr th {\n",
              "        vertical-align: top;\n",
              "    }\n",
              "\n",
              "    .dataframe thead th {\n",
              "        text-align: right;\n",
              "    }\n",
              "</style>\n",
              "<table border=\"1\" class=\"dataframe\">\n",
              "  <thead>\n",
              "    <tr style=\"text-align: right;\">\n",
              "      <th></th>\n",
              "      <th>ZAMESTNANIE_blue-collar</th>\n",
              "      <th>ZAMESTNANIE_entrepreneur</th>\n",
              "      <th>ZAMESTNANIE_housemaid</th>\n",
              "      <th>ZAMESTNANIE_management</th>\n",
              "      <th>ZAMESTNANIE_retired</th>\n",
              "      <th>ZAMESTNANIE_self-employed</th>\n",
              "      <th>ZAMESTNANIE_services</th>\n",
              "      <th>ZAMESTNANIE_student</th>\n",
              "      <th>ZAMESTNANIE_technician</th>\n",
              "      <th>ZAMESTNANIE_unemployed</th>\n",
              "      <th>ZAMESTNANIE_unknown</th>\n",
              "      <th>RODINNY_STAV_single</th>\n",
              "      <th>RODINNY_STAV_unknown</th>\n",
              "      <th>VZDELANIE_high.school</th>\n",
              "      <th>VZDELANIE_university.bachelor</th>\n",
              "      <th>VZDELANIE_university.master</th>\n",
              "      <th>VZDELANIE_unknown</th>\n",
              "      <th>KONTACT_TYP_telephone</th>\n",
              "      <th>MESIAC_aug</th>\n",
              "      <th>MESIAC_dec</th>\n",
              "      <th>MESIAC_jul</th>\n",
              "      <th>MESIAC_jun</th>\n",
              "      <th>MESIAC_mar</th>\n",
              "      <th>MESIAC_may</th>\n",
              "      <th>MESIAC_nov</th>\n",
              "      <th>MESIAC_oct</th>\n",
              "      <th>MESIAC_sep</th>\n",
              "      <th>DEN_mon</th>\n",
              "      <th>DEN_thu</th>\n",
              "      <th>DEN_tue</th>\n",
              "      <th>DEN_wed</th>\n",
              "      <th>VYSLEDOK_KAMPANE_success</th>\n",
              "      <th>HYPO_BAL</th>\n",
              "      <th>SU_BAL</th>\n",
              "      <th>TRVANIE</th>\n",
              "      <th>POCET_KAMPANI</th>\n",
              "      <th>POCET_KONTAKTOVANI</th>\n",
              "      <th>EMP.VAR.RATE</th>\n",
              "    </tr>\n",
              "  </thead>\n",
              "  <tbody>\n",
              "    <tr>\n",
              "      <th>0</th>\n",
              "      <td>0</td>\n",
              "      <td>0</td>\n",
              "      <td>0</td>\n",
              "      <td>0</td>\n",
              "      <td>0</td>\n",
              "      <td>0</td>\n",
              "      <td>0</td>\n",
              "      <td>1</td>\n",
              "      <td>0</td>\n",
              "      <td>0</td>\n",
              "      <td>0</td>\n",
              "      <td>1</td>\n",
              "      <td>0</td>\n",
              "      <td>1</td>\n",
              "      <td>0</td>\n",
              "      <td>0</td>\n",
              "      <td>0</td>\n",
              "      <td>1</td>\n",
              "      <td>0</td>\n",
              "      <td>0</td>\n",
              "      <td>0</td>\n",
              "      <td>0</td>\n",
              "      <td>0</td>\n",
              "      <td>0</td>\n",
              "      <td>1</td>\n",
              "      <td>0</td>\n",
              "      <td>0</td>\n",
              "      <td>0</td>\n",
              "      <td>1</td>\n",
              "      <td>0</td>\n",
              "      <td>0</td>\n",
              "      <td>0</td>\n",
              "      <td>0.00</td>\n",
              "      <td>0.00</td>\n",
              "      <td>75</td>\n",
              "      <td>1</td>\n",
              "      <td>0</td>\n",
              "      <td>-0.1</td>\n",
              "    </tr>\n",
              "    <tr>\n",
              "      <th>1</th>\n",
              "      <td>0</td>\n",
              "      <td>0</td>\n",
              "      <td>0</td>\n",
              "      <td>0</td>\n",
              "      <td>0</td>\n",
              "      <td>0</td>\n",
              "      <td>0</td>\n",
              "      <td>1</td>\n",
              "      <td>0</td>\n",
              "      <td>0</td>\n",
              "      <td>0</td>\n",
              "      <td>1</td>\n",
              "      <td>0</td>\n",
              "      <td>1</td>\n",
              "      <td>0</td>\n",
              "      <td>0</td>\n",
              "      <td>0</td>\n",
              "      <td>0</td>\n",
              "      <td>0</td>\n",
              "      <td>0</td>\n",
              "      <td>0</td>\n",
              "      <td>0</td>\n",
              "      <td>1</td>\n",
              "      <td>0</td>\n",
              "      <td>0</td>\n",
              "      <td>0</td>\n",
              "      <td>0</td>\n",
              "      <td>0</td>\n",
              "      <td>0</td>\n",
              "      <td>1</td>\n",
              "      <td>0</td>\n",
              "      <td>0</td>\n",
              "      <td>16018.57</td>\n",
              "      <td>3543.48</td>\n",
              "      <td>103</td>\n",
              "      <td>1</td>\n",
              "      <td>0</td>\n",
              "      <td>-1.8</td>\n",
              "    </tr>\n",
              "    <tr>\n",
              "      <th>2</th>\n",
              "      <td>0</td>\n",
              "      <td>0</td>\n",
              "      <td>0</td>\n",
              "      <td>0</td>\n",
              "      <td>0</td>\n",
              "      <td>0</td>\n",
              "      <td>0</td>\n",
              "      <td>1</td>\n",
              "      <td>0</td>\n",
              "      <td>0</td>\n",
              "      <td>0</td>\n",
              "      <td>1</td>\n",
              "      <td>0</td>\n",
              "      <td>0</td>\n",
              "      <td>0</td>\n",
              "      <td>0</td>\n",
              "      <td>0</td>\n",
              "      <td>0</td>\n",
              "      <td>0</td>\n",
              "      <td>0</td>\n",
              "      <td>0</td>\n",
              "      <td>0</td>\n",
              "      <td>0</td>\n",
              "      <td>0</td>\n",
              "      <td>0</td>\n",
              "      <td>0</td>\n",
              "      <td>0</td>\n",
              "      <td>0</td>\n",
              "      <td>1</td>\n",
              "      <td>0</td>\n",
              "      <td>0</td>\n",
              "      <td>0</td>\n",
              "      <td>0.00</td>\n",
              "      <td>0.00</td>\n",
              "      <td>108</td>\n",
              "      <td>1</td>\n",
              "      <td>0</td>\n",
              "      <td>-1.8</td>\n",
              "    </tr>\n",
              "    <tr>\n",
              "      <th>3</th>\n",
              "      <td>0</td>\n",
              "      <td>0</td>\n",
              "      <td>0</td>\n",
              "      <td>0</td>\n",
              "      <td>0</td>\n",
              "      <td>0</td>\n",
              "      <td>0</td>\n",
              "      <td>1</td>\n",
              "      <td>0</td>\n",
              "      <td>0</td>\n",
              "      <td>0</td>\n",
              "      <td>1</td>\n",
              "      <td>0</td>\n",
              "      <td>0</td>\n",
              "      <td>0</td>\n",
              "      <td>0</td>\n",
              "      <td>0</td>\n",
              "      <td>0</td>\n",
              "      <td>0</td>\n",
              "      <td>0</td>\n",
              "      <td>0</td>\n",
              "      <td>0</td>\n",
              "      <td>0</td>\n",
              "      <td>0</td>\n",
              "      <td>0</td>\n",
              "      <td>0</td>\n",
              "      <td>0</td>\n",
              "      <td>0</td>\n",
              "      <td>1</td>\n",
              "      <td>0</td>\n",
              "      <td>0</td>\n",
              "      <td>0</td>\n",
              "      <td>18691.97</td>\n",
              "      <td>2303.03</td>\n",
              "      <td>184</td>\n",
              "      <td>2</td>\n",
              "      <td>0</td>\n",
              "      <td>-1.8</td>\n",
              "    </tr>\n",
              "    <tr>\n",
              "      <th>4</th>\n",
              "      <td>0</td>\n",
              "      <td>0</td>\n",
              "      <td>0</td>\n",
              "      <td>0</td>\n",
              "      <td>0</td>\n",
              "      <td>0</td>\n",
              "      <td>0</td>\n",
              "      <td>1</td>\n",
              "      <td>0</td>\n",
              "      <td>0</td>\n",
              "      <td>0</td>\n",
              "      <td>1</td>\n",
              "      <td>0</td>\n",
              "      <td>1</td>\n",
              "      <td>0</td>\n",
              "      <td>0</td>\n",
              "      <td>0</td>\n",
              "      <td>0</td>\n",
              "      <td>0</td>\n",
              "      <td>0</td>\n",
              "      <td>0</td>\n",
              "      <td>0</td>\n",
              "      <td>0</td>\n",
              "      <td>1</td>\n",
              "      <td>0</td>\n",
              "      <td>0</td>\n",
              "      <td>0</td>\n",
              "      <td>0</td>\n",
              "      <td>0</td>\n",
              "      <td>0</td>\n",
              "      <td>0</td>\n",
              "      <td>0</td>\n",
              "      <td>0.00</td>\n",
              "      <td>0.00</td>\n",
              "      <td>271</td>\n",
              "      <td>1</td>\n",
              "      <td>1</td>\n",
              "      <td>-1.8</td>\n",
              "    </tr>\n",
              "    <tr>\n",
              "      <th>...</th>\n",
              "      <td>...</td>\n",
              "      <td>...</td>\n",
              "      <td>...</td>\n",
              "      <td>...</td>\n",
              "      <td>...</td>\n",
              "      <td>...</td>\n",
              "      <td>...</td>\n",
              "      <td>...</td>\n",
              "      <td>...</td>\n",
              "      <td>...</td>\n",
              "      <td>...</td>\n",
              "      <td>...</td>\n",
              "      <td>...</td>\n",
              "      <td>...</td>\n",
              "      <td>...</td>\n",
              "      <td>...</td>\n",
              "      <td>...</td>\n",
              "      <td>...</td>\n",
              "      <td>...</td>\n",
              "      <td>...</td>\n",
              "      <td>...</td>\n",
              "      <td>...</td>\n",
              "      <td>...</td>\n",
              "      <td>...</td>\n",
              "      <td>...</td>\n",
              "      <td>...</td>\n",
              "      <td>...</td>\n",
              "      <td>...</td>\n",
              "      <td>...</td>\n",
              "      <td>...</td>\n",
              "      <td>...</td>\n",
              "      <td>...</td>\n",
              "      <td>...</td>\n",
              "      <td>...</td>\n",
              "      <td>...</td>\n",
              "      <td>...</td>\n",
              "      <td>...</td>\n",
              "      <td>...</td>\n",
              "    </tr>\n",
              "    <tr>\n",
              "      <th>40756</th>\n",
              "      <td>0</td>\n",
              "      <td>0</td>\n",
              "      <td>0</td>\n",
              "      <td>0</td>\n",
              "      <td>1</td>\n",
              "      <td>0</td>\n",
              "      <td>0</td>\n",
              "      <td>0</td>\n",
              "      <td>0</td>\n",
              "      <td>0</td>\n",
              "      <td>0</td>\n",
              "      <td>0</td>\n",
              "      <td>0</td>\n",
              "      <td>0</td>\n",
              "      <td>0</td>\n",
              "      <td>0</td>\n",
              "      <td>0</td>\n",
              "      <td>0</td>\n",
              "      <td>1</td>\n",
              "      <td>0</td>\n",
              "      <td>0</td>\n",
              "      <td>0</td>\n",
              "      <td>0</td>\n",
              "      <td>0</td>\n",
              "      <td>0</td>\n",
              "      <td>0</td>\n",
              "      <td>0</td>\n",
              "      <td>0</td>\n",
              "      <td>0</td>\n",
              "      <td>1</td>\n",
              "      <td>0</td>\n",
              "      <td>1</td>\n",
              "      <td>2138.67</td>\n",
              "      <td>0.00</td>\n",
              "      <td>356</td>\n",
              "      <td>3</td>\n",
              "      <td>1</td>\n",
              "      <td>-1.7</td>\n",
              "    </tr>\n",
              "    <tr>\n",
              "      <th>40757</th>\n",
              "      <td>0</td>\n",
              "      <td>0</td>\n",
              "      <td>0</td>\n",
              "      <td>0</td>\n",
              "      <td>0</td>\n",
              "      <td>0</td>\n",
              "      <td>0</td>\n",
              "      <td>0</td>\n",
              "      <td>1</td>\n",
              "      <td>0</td>\n",
              "      <td>0</td>\n",
              "      <td>0</td>\n",
              "      <td>0</td>\n",
              "      <td>0</td>\n",
              "      <td>0</td>\n",
              "      <td>0</td>\n",
              "      <td>1</td>\n",
              "      <td>0</td>\n",
              "      <td>1</td>\n",
              "      <td>0</td>\n",
              "      <td>0</td>\n",
              "      <td>0</td>\n",
              "      <td>0</td>\n",
              "      <td>0</td>\n",
              "      <td>0</td>\n",
              "      <td>0</td>\n",
              "      <td>0</td>\n",
              "      <td>0</td>\n",
              "      <td>1</td>\n",
              "      <td>0</td>\n",
              "      <td>0</td>\n",
              "      <td>0</td>\n",
              "      <td>0.00</td>\n",
              "      <td>0.00</td>\n",
              "      <td>411</td>\n",
              "      <td>1</td>\n",
              "      <td>0</td>\n",
              "      <td>-1.7</td>\n",
              "    </tr>\n",
              "    <tr>\n",
              "      <th>40758</th>\n",
              "      <td>0</td>\n",
              "      <td>0</td>\n",
              "      <td>0</td>\n",
              "      <td>0</td>\n",
              "      <td>1</td>\n",
              "      <td>0</td>\n",
              "      <td>0</td>\n",
              "      <td>0</td>\n",
              "      <td>0</td>\n",
              "      <td>0</td>\n",
              "      <td>0</td>\n",
              "      <td>0</td>\n",
              "      <td>0</td>\n",
              "      <td>0</td>\n",
              "      <td>1</td>\n",
              "      <td>0</td>\n",
              "      <td>0</td>\n",
              "      <td>1</td>\n",
              "      <td>0</td>\n",
              "      <td>0</td>\n",
              "      <td>0</td>\n",
              "      <td>0</td>\n",
              "      <td>0</td>\n",
              "      <td>0</td>\n",
              "      <td>0</td>\n",
              "      <td>0</td>\n",
              "      <td>1</td>\n",
              "      <td>0</td>\n",
              "      <td>0</td>\n",
              "      <td>0</td>\n",
              "      <td>1</td>\n",
              "      <td>0</td>\n",
              "      <td>3891.03</td>\n",
              "      <td>0.00</td>\n",
              "      <td>380</td>\n",
              "      <td>4</td>\n",
              "      <td>0</td>\n",
              "      <td>-1.1</td>\n",
              "    </tr>\n",
              "    <tr>\n",
              "      <th>40759</th>\n",
              "      <td>0</td>\n",
              "      <td>0</td>\n",
              "      <td>0</td>\n",
              "      <td>0</td>\n",
              "      <td>1</td>\n",
              "      <td>0</td>\n",
              "      <td>0</td>\n",
              "      <td>0</td>\n",
              "      <td>0</td>\n",
              "      <td>0</td>\n",
              "      <td>0</td>\n",
              "      <td>0</td>\n",
              "      <td>0</td>\n",
              "      <td>0</td>\n",
              "      <td>0</td>\n",
              "      <td>0</td>\n",
              "      <td>0</td>\n",
              "      <td>0</td>\n",
              "      <td>0</td>\n",
              "      <td>0</td>\n",
              "      <td>0</td>\n",
              "      <td>0</td>\n",
              "      <td>0</td>\n",
              "      <td>0</td>\n",
              "      <td>0</td>\n",
              "      <td>1</td>\n",
              "      <td>0</td>\n",
              "      <td>0</td>\n",
              "      <td>1</td>\n",
              "      <td>0</td>\n",
              "      <td>0</td>\n",
              "      <td>0</td>\n",
              "      <td>0.00</td>\n",
              "      <td>0.00</td>\n",
              "      <td>122</td>\n",
              "      <td>1</td>\n",
              "      <td>3</td>\n",
              "      <td>-1.1</td>\n",
              "    </tr>\n",
              "    <tr>\n",
              "      <th>40760</th>\n",
              "      <td>0</td>\n",
              "      <td>0</td>\n",
              "      <td>0</td>\n",
              "      <td>0</td>\n",
              "      <td>1</td>\n",
              "      <td>0</td>\n",
              "      <td>0</td>\n",
              "      <td>0</td>\n",
              "      <td>0</td>\n",
              "      <td>0</td>\n",
              "      <td>0</td>\n",
              "      <td>0</td>\n",
              "      <td>0</td>\n",
              "      <td>0</td>\n",
              "      <td>1</td>\n",
              "      <td>0</td>\n",
              "      <td>0</td>\n",
              "      <td>0</td>\n",
              "      <td>0</td>\n",
              "      <td>0</td>\n",
              "      <td>0</td>\n",
              "      <td>0</td>\n",
              "      <td>0</td>\n",
              "      <td>0</td>\n",
              "      <td>0</td>\n",
              "      <td>1</td>\n",
              "      <td>0</td>\n",
              "      <td>0</td>\n",
              "      <td>1</td>\n",
              "      <td>0</td>\n",
              "      <td>0</td>\n",
              "      <td>1</td>\n",
              "      <td>0.00</td>\n",
              "      <td>0.00</td>\n",
              "      <td>585</td>\n",
              "      <td>1</td>\n",
              "      <td>3</td>\n",
              "      <td>-1.1</td>\n",
              "    </tr>\n",
              "  </tbody>\n",
              "</table>\n",
              "<p>39764 rows × 38 columns</p>\n",
              "</div>"
            ],
            "text/plain": [
              "       ZAMESTNANIE_blue-collar  ...  EMP.VAR.RATE\n",
              "0                            0  ...          -0.1\n",
              "1                            0  ...          -1.8\n",
              "2                            0  ...          -1.8\n",
              "3                            0  ...          -1.8\n",
              "4                            0  ...          -1.8\n",
              "...                        ...  ...           ...\n",
              "40756                        0  ...          -1.7\n",
              "40757                        0  ...          -1.7\n",
              "40758                        0  ...          -1.1\n",
              "40759                        0  ...          -1.1\n",
              "40760                        0  ...          -1.1\n",
              "\n",
              "[39764 rows x 38 columns]"
            ]
          },
          "metadata": {
            "tags": []
          },
          "execution_count": 232
        }
      ]
    },
    {
      "cell_type": "code",
      "metadata": {
        "id": "i-SHUXHPyvtX",
        "colab_type": "code",
        "colab": {}
      },
      "source": [
        "#splitting data into test and training sets\n",
        "X_train, X_test, y_train, y_test = train_test_split(X, y, test_size=0.2, random_state=27)"
      ],
      "execution_count": 0,
      "outputs": []
    },
    {
      "cell_type": "code",
      "metadata": {
        "id": "45qYKlX2yv58",
        "colab_type": "code",
        "outputId": "0672ea01-87ac-4e08-ed79-f61e0b003a22",
        "colab": {
          "base_uri": "https://localhost:8080/",
          "height": 527
        }
      },
      "source": [
        "#SCALING FEATURES\n",
        "\n",
        "#categorical features\n",
        "X_train_k = X_train.loc[:, X.columns[0:32]] \n",
        "X_train_k.index = list(range(0,31811))\n",
        "#print(X_train_k.columns)\n",
        "\n",
        "X_test_k = X_test.loc[:, X.columns[0:32]] \n",
        "X_test_k.index = list(range(0,7953))\n",
        "#print(X_test_k.columns)\n",
        "\n",
        "#scaling (without categorical features)\n",
        "X_train = pd.DataFrame(preprocessing.scale(X_train.loc[:,X.columns[32:38]])) \n",
        "X_test = pd.DataFrame(preprocessing.scale(X_test.loc[:,X.columns[32:38]])) \n",
        "print(X_train.columns)\n",
        "\n",
        "#premenovanie stlpcov\n",
        "X_train.columns = X.columns[32:38]\n",
        "X_test.columns = X.columns[32:38]\n",
        "\n",
        "#concatenating all features\n",
        "X_train = pd.concat([X_train, X_train_k],axis=1)\n",
        "X_test = pd.concat([X_test, X_test_k],axis=1)\n",
        "\n",
        "print(X_train.shape)\n",
        "print(X_test.shape)\n",
        "print(X_train.columns)\n",
        "print(X_train)"
      ],
      "execution_count": 234,
      "outputs": [
        {
          "output_type": "stream",
          "text": [
            "RangeIndex(start=0, stop=6, step=1)\n",
            "(31811, 38)\n",
            "(7953, 38)\n",
            "Index(['HYPO_BAL', 'SU_BAL', 'TRVANIE', 'POCET_KAMPANI', 'POCET_KONTAKTOVANI',\n",
            "       'EMP.VAR.RATE', 'ZAMESTNANIE_blue-collar', 'ZAMESTNANIE_entrepreneur',\n",
            "       'ZAMESTNANIE_housemaid', 'ZAMESTNANIE_management',\n",
            "       'ZAMESTNANIE_retired', 'ZAMESTNANIE_self-employed',\n",
            "       'ZAMESTNANIE_services', 'ZAMESTNANIE_student', 'ZAMESTNANIE_technician',\n",
            "       'ZAMESTNANIE_unemployed', 'ZAMESTNANIE_unknown', 'RODINNY_STAV_single',\n",
            "       'RODINNY_STAV_unknown', 'VZDELANIE_high.school',\n",
            "       'VZDELANIE_university.bachelor', 'VZDELANIE_university.master',\n",
            "       'VZDELANIE_unknown', 'KONTACT_TYP_telephone', 'MESIAC_aug',\n",
            "       'MESIAC_dec', 'MESIAC_jul', 'MESIAC_jun', 'MESIAC_mar', 'MESIAC_may',\n",
            "       'MESIAC_nov', 'MESIAC_oct', 'MESIAC_sep', 'DEN_mon', 'DEN_thu',\n",
            "       'DEN_tue', 'DEN_wed', 'VYSLEDOK_KAMPANE_success'],\n",
            "      dtype='object')\n",
            "       HYPO_BAL   SU_BAL   TRVANIE  ...  DEN_tue  DEN_wed  VYSLEDOK_KAMPANE_success\n",
            "0     -0.849595 -0.40684 -0.064781  ...        0        0                         0\n",
            "1      0.347763 -0.40684 -0.858934  ...        1        0                         0\n",
            "2     -0.849595 -0.40684 -0.037925  ...        0        0                         0\n",
            "3     -0.849595 -0.40684 -0.195222  ...        0        0                         0\n",
            "4      2.080773 -0.40684 -0.663273  ...        1        0                         0\n",
            "...         ...      ...       ...  ...      ...      ...                       ...\n",
            "31806  0.152667 -0.40684 -0.490631  ...        0        0                         0\n",
            "31807  1.570707 -0.40684  0.882832  ...        0        0                         0\n",
            "31808 -0.849595 -0.40684 -0.444593  ...        0        0                         0\n",
            "31809 -0.849595 -0.40684  0.011949  ...        0        0                         0\n",
            "31810  0.965106 -0.40684 -0.168366  ...        0        0                         0\n",
            "\n",
            "[31811 rows x 38 columns]\n"
          ],
          "name": "stdout"
        }
      ]
    },
    {
      "cell_type": "code",
      "metadata": {
        "id": "pJVeXSody3MY",
        "colab_type": "code",
        "outputId": "ae19a176-8dba-43a5-d1b8-e34ff03c22b6",
        "colab": {
          "base_uri": "https://localhost:8080/",
          "height": 136
        }
      },
      "source": [
        "#LOGISTIC REGRESSION\n",
        "\n",
        "logreg = LogisticRegression(max_iter=1000)\n",
        "\n",
        "y_train = np.reshape(y_train,len(y_train),)\n",
        "\n",
        "#fitting the model with data\n",
        "logreg.fit(X_train,y_train)\n",
        "\n",
        "#predictions\n",
        "y_pred=logreg.predict(X_test)\n",
        "\n",
        "#vysledne pravdepodobnosti\n",
        "print(logistic_regression.predict_proba(X_test))"
      ],
      "execution_count": 235,
      "outputs": [
        {
          "output_type": "stream",
          "text": [
            "[[0.985811   0.014189  ]\n",
            " [0.88059528 0.11940472]\n",
            " [0.98157671 0.01842329]\n",
            " ...\n",
            " [0.86991514 0.13008486]\n",
            " [0.91073354 0.08926646]\n",
            " [0.99359401 0.00640599]]\n"
          ],
          "name": "stdout"
        }
      ]
    },
    {
      "cell_type": "code",
      "metadata": {
        "id": "OWebQx9WqQ-Y",
        "colab_type": "code",
        "colab": {
          "base_uri": "https://localhost:8080/",
          "height": 221
        },
        "outputId": "9916fba8-7cbf-4cce-83ad-e3dcf2619105"
      },
      "source": [
        "#metrics - precision, recall, f1-score, accuracy\n",
        "print(classification_report(y_test.ravel(),y_pred))\n",
        "print(\"Accuracy:\",metrics.accuracy_score(y_test.ravel(), y_pred))\n",
        "\n",
        "#confusion matrix\n",
        "cnf_matrix = metrics.confusion_matrix(y_test, y_pred)\n",
        "cnf_matrix"
      ],
      "execution_count": 236,
      "outputs": [
        {
          "output_type": "stream",
          "text": [
            "              precision    recall  f1-score   support\n",
            "\n",
            "           0       0.93      0.97      0.95      7112\n",
            "           1       0.62      0.40      0.49       841\n",
            "\n",
            "    accuracy                           0.91      7953\n",
            "   macro avg       0.78      0.68      0.72      7953\n",
            "weighted avg       0.90      0.91      0.90      7953\n",
            "\n",
            "Accuracy: 0.9105997736703131\n"
          ],
          "name": "stdout"
        },
        {
          "output_type": "execute_result",
          "data": {
            "text/plain": [
              "array([[6907,  205],\n",
              "       [ 506,  335]])"
            ]
          },
          "metadata": {
            "tags": []
          },
          "execution_count": 236
        }
      ]
    },
    {
      "cell_type": "code",
      "metadata": {
        "id": "gjMDQPZry7Ii",
        "colab_type": "code",
        "outputId": "e3a1c67f-fa2e-4b5e-c8e6-74116078ebe6",
        "colab": {
          "base_uri": "https://localhost:8080/",
          "height": 312
        }
      },
      "source": [
        "#AUC metrics\n",
        "y_pred_p=logreg.predict_proba(X_test)\n",
        "#y_test = np.reshape(y_test,len(y_test),)\n",
        "#print(y_test.shape)\n",
        "\n",
        "roc_auc = metrics.roc_auc_score(y_test, y_pred_p[:,1])\n",
        "print(roc_auc)\n",
        "\n",
        "#plotting ROC curve\n",
        "fpr, tpr, thresholds = roc_curve(y_test, y_pred_p[:,1])\n",
        "\n",
        "plt.plot(fpr,tpr,'b-', label= 'LOG_REG: %.4f'%roc_auc)\n",
        "plt.plot([0,1],[0,1],'k-',label='random')\n",
        "plt.plot([0,0,1,1],[0,1,1,1],'g-',label='perfect')\n",
        "plt.legend()\n",
        "plt.xlabel('False Positive Rate')\n",
        "plt.ylabel('True Positive Rate')\n",
        "plt.title(\"M1\")\n",
        "plt.show()"
      ],
      "execution_count": 237,
      "outputs": [
        {
          "output_type": "stream",
          "text": [
            "0.9286386392545164\n"
          ],
          "name": "stdout"
        },
        {
          "output_type": "display_data",
          "data": {
            "image/png": "[encoded data removed]",
            "text/plain": [
              "<Figure size 432x288 with 1 Axes>"
            ]
          },
          "metadata": {
            "tags": []
          }
        }
      ]
    },
    {
      "cell_type": "code",
      "metadata": {
        "id": "ihq2xdJLy-FF",
        "colab_type": "code",
        "outputId": "6eb7a207-3e52-4198-c0ae-4b30e86ef2a0",
        "colab": {
          "base_uri": "https://localhost:8080/",
          "height": 139
        }
      },
      "source": [
        "print(y_train[y_train==1].shape)\n",
        "print(y_train[y_train==0].shape)\n",
        "\n",
        "#SMOTE, ratio = 1\n",
        "sm = SMOTE(random_state=27, ratio=1)\n",
        "X_train_s, y_train_s = sm.fit_sample(X_train, y_train.ravel())\n",
        "\n",
        "print(y_train_s[y_train_s==1].shape)\n",
        "print(y_train_s[y_train_s==0].shape)"
      ],
      "execution_count": 238,
      "outputs": [
        {
          "output_type": "stream",
          "text": [
            "(3490,)\n",
            "(28321,)\n"
          ],
          "name": "stdout"
        },
        {
          "output_type": "stream",
          "text": [
            "/usr/local/lib/python3.6/dist-packages/sklearn/utils/deprecation.py:87: FutureWarning: Function safe_indexing is deprecated; safe_indexing is deprecated in version 0.22 and will be removed in version 0.24.\n",
            "  warnings.warn(msg, category=FutureWarning)\n"
          ],
          "name": "stderr"
        },
        {
          "output_type": "stream",
          "text": [
            "(28321,)\n",
            "(28321,)\n"
          ],
          "name": "stdout"
        }
      ]
    },
    {
      "cell_type": "code",
      "metadata": {
        "id": "fl21lWYHzCLv",
        "colab_type": "code",
        "outputId": "0b92539b-6487-42c8-df0a-e808bf7b8618",
        "colab": {
          "base_uri": "https://localhost:8080/",
          "height": 136
        }
      },
      "source": [
        "#LOGISTIC REGRESSION with SMOTE\n",
        "\n",
        "#fitting the model with data\n",
        "logreg.fit(X_train_s,y_train_s)\n",
        "\n",
        "#predictions\n",
        "y_pred_s=logreg.predict(X_test) \n",
        "\n",
        "print(logistic_regression.predict_proba(X_test))"
      ],
      "execution_count": 239,
      "outputs": [
        {
          "output_type": "stream",
          "text": [
            "[[0.985811   0.014189  ]\n",
            " [0.88059528 0.11940472]\n",
            " [0.98157671 0.01842329]\n",
            " ...\n",
            " [0.86991514 0.13008486]\n",
            " [0.91073354 0.08926646]\n",
            " [0.99359401 0.00640599]]\n"
          ],
          "name": "stdout"
        }
      ]
    },
    {
      "cell_type": "code",
      "metadata": {
        "id": "FlG6K-CBuniz",
        "colab_type": "code",
        "colab": {
          "base_uri": "https://localhost:8080/",
          "height": 221
        },
        "outputId": "40575a32-69bb-4205-a4ff-2246467558e7"
      },
      "source": [
        "#metrics - prec\n",
        "print(classification_report(y_test,y_pred_s))\n",
        "print(\"Accuracy:\",metrics.accuracy_score(y_test, y_pred_s))\n",
        "\n",
        "#confusion matrix\n",
        "cnf_matrix = metrics.confusion_matrix(y_test, y_pred_s)\n",
        "print(cnf_matrix)"
      ],
      "execution_count": 240,
      "outputs": [
        {
          "output_type": "stream",
          "text": [
            "              precision    recall  f1-score   support\n",
            "\n",
            "           0       0.98      0.86      0.92      7112\n",
            "           1       0.42      0.86      0.57       841\n",
            "\n",
            "    accuracy                           0.86      7953\n",
            "   macro avg       0.70      0.86      0.74      7953\n",
            "weighted avg       0.92      0.86      0.88      7953\n",
            "\n",
            "Accuracy: 0.8606815038350308\n",
            "[[6121  991]\n",
            " [ 117  724]]\n"
          ],
          "name": "stdout"
        }
      ]
    },
    {
      "cell_type": "code",
      "metadata": {
        "id": "Es-5WEsdzYWD",
        "colab_type": "code",
        "outputId": "4fca0920-536d-4ef3-a9e7-718b011618a6",
        "colab": {
          "base_uri": "https://localhost:8080/",
          "height": 312
        }
      },
      "source": [
        "#AUC metrics\n",
        "y_pred_p_s=logreg.predict_proba(X_test)\n",
        "#y_test = np.reshape(y_test,len(y_test),)\n",
        "#print(y_test.shape)\n",
        "roc_auc = metrics.roc_auc_score(y_test, y_pred_p_s[:,1])\n",
        "print(roc_auc)\n",
        "\n",
        "#plotting ROC curve\n",
        "fpr, tpr, thresholds = roc_curve(y_test, y_pred_p_s[:,1])\n",
        "#print(fpr)\n",
        "#print(tpr)\n",
        "#print(thresholds)\n",
        "\n",
        "plt.plot(fpr,tpr,'b-', label= 'LOG_REG: %.4f'%roc_auc)\n",
        "plt.plot([0,1],[0,1],'k-',label='random')\n",
        "plt.plot([0,0,1,1],[0,1,1,1],'g-',label='perfect')\n",
        "plt.legend()\n",
        "plt.xlabel('False Positive Rate')\n",
        "plt.ylabel('True Positive Rate')\n",
        "plt.title(\"M2\")\n",
        "plt.show()"
      ],
      "execution_count": 241,
      "outputs": [
        {
          "output_type": "stream",
          "text": [
            "0.929366587797215\n"
          ],
          "name": "stdout"
        },
        {
          "output_type": "display_data",
          "data": {
            "image/png": "[encoded data removed]",
            "text/plain": [
              "<Figure size 432x288 with 1 Axes>"
            ]
          },
          "metadata": {
            "tags": []
          }
        }
      ]
    },
    {
      "cell_type": "code",
      "metadata": {
        "id": "AVkB4Ks5b7eO",
        "colab_type": "code",
        "outputId": "ab0af732-d31f-4079-9f0b-42a1904c8c03",
        "colab": {
          "base_uri": "https://localhost:8080/",
          "height": 221
        }
      },
      "source": [
        "#RANDOM FOREST\n",
        "\n",
        "clf=RandomForestClassifier(n_estimators = 100, random_state=27)\n",
        "\n",
        "#y_train = np.reshape(y_train,len(y_train),)\n",
        "#fitting the model with data\n",
        "clf.fit(X_train,y_train)\n",
        "\n",
        "#predictions\n",
        "y_pred=clf.predict(X_test)\n",
        "\n",
        "#metrics - precision, recall, f1-score, accuracy\n",
        "print(classification_report(y_test,y_pred))\n",
        "print(\"Accuracy:\",metrics.accuracy_score(y_test, y_pred))\n",
        "\n",
        "#confusion matrix\n",
        "cf_matrix = metrics.confusion_matrix(y_test, y_pred)\n",
        "print(cf_matrix)"
      ],
      "execution_count": 244,
      "outputs": [
        {
          "output_type": "stream",
          "text": [
            "              precision    recall  f1-score   support\n",
            "\n",
            "           0       0.94      0.97      0.95      7112\n",
            "           1       0.61      0.46      0.53       841\n",
            "\n",
            "    accuracy                           0.91      7953\n",
            "   macro avg       0.78      0.71      0.74      7953\n",
            "weighted avg       0.90      0.91      0.91      7953\n",
            "\n",
            "Accuracy: 0.9122343769646675\n",
            "[[6869  243]\n",
            " [ 455  386]]\n"
          ],
          "name": "stdout"
        }
      ]
    },
    {
      "cell_type": "code",
      "metadata": {
        "id": "5E11tnAz-bAS",
        "colab_type": "code",
        "colab": {
          "base_uri": "https://localhost:8080/",
          "height": 312
        },
        "outputId": "f53447e3-2a0d-4041-9555-3b31f3001065"
      },
      "source": [
        "#AUC metrics\n",
        "y_pred_p=clf.predict_proba(X_test)\n",
        "#y_test = np.reshape(y_test,len(y_test),)\n",
        "#print(y_test.shape)\n",
        "roc_auc = metrics.roc_auc_score(y_test, y_pred_p[:,1])\n",
        "print(roc_auc)\n",
        "\n",
        "#plotting ROC curve\n",
        "fpr, tpr, thresholds = roc_curve(y_test, y_pred_p[:,1])\n",
        "\n",
        "plt.plot(fpr,tpr,'b-', label= 'Random Forest: %.4f'%roc_auc)\n",
        "plt.plot([0,1],[0,1],'k-',label='Random Classifier')\n",
        "plt.plot([0,0,1,1],[0,1,1,1],'g-',label='Perfect Classifier')\n",
        "plt.legend()\n",
        "plt.xlabel('False Positive Rate')\n",
        "plt.ylabel('True Positive Rate')\n",
        "plt.title(\"M3\")\n",
        "plt.show()"
      ],
      "execution_count": 245,
      "outputs": [
        {
          "output_type": "stream",
          "text": [
            "0.9319925693741313\n"
          ],
          "name": "stdout"
        },
        {
          "output_type": "display_data",
          "data": {
            "image/png": "[encoded data removed]",
            "text/plain": [
              "<Figure size 432x288 with 1 Axes>"
            ]
          },
          "metadata": {
            "tags": []
          }
        }
      ]
    },
    {
      "cell_type": "code",
      "metadata": {
        "id": "8HnoZibulNo-",
        "colab_type": "code",
        "outputId": "d9cda793-7212-482a-ce68-d4a4025fd587",
        "colab": {
          "base_uri": "https://localhost:8080/",
          "height": 1000
        }
      },
      "source": [
        "#feature importances and selection\n",
        "importances = clf.feature_importances_\n",
        "print(importances)\n",
        "\n",
        "features = X_train.columns\n",
        "print(features)\n",
        "indices = np.argsort(importances)[::-1]\n",
        "print(indices)\n",
        "\n",
        "#graficke znazornenie dolezitych premennych\n",
        "plt.figure(figsize=(15,4))\n",
        "plt.bar(range(X_train.shape[1]), importances[indices])\n",
        "plt.xticks(range(X_train.shape[1]), features[indices], rotation='vertical')"
      ],
      "execution_count": 246,
      "outputs": [
        {
          "output_type": "stream",
          "text": [
            "[0.09087716 0.03178061 0.35031019 0.05207866 0.031823   0.08277121\n",
            " 0.01152989 0.00548663 0.00436513 0.00925549 0.00752957 0.00581386\n",
            " 0.00888112 0.00638809 0.01322458 0.00515045 0.00209152 0.01887477\n",
            " 0.00087611 0.01429497 0.0105766  0.01499601 0.0064321  0.0139637\n",
            " 0.00788181 0.00292685 0.00827663 0.00866635 0.01332634 0.01712333\n",
            " 0.00661571 0.01110343 0.006775   0.01515626 0.01564618 0.01471099\n",
            " 0.01509511 0.05732459]\n",
            "Index(['HYPO_BAL', 'SU_BAL', 'TRVANIE', 'POCET_KAMPANI', 'POCET_KONTAKTOVANI',\n",
            "       'EMP.VAR.RATE', 'ZAMESTNANIE_blue-collar', 'ZAMESTNANIE_entrepreneur',\n",
            "       'ZAMESTNANIE_housemaid', 'ZAMESTNANIE_management',\n",
            "       'ZAMESTNANIE_retired', 'ZAMESTNANIE_self-employed',\n",
            "       'ZAMESTNANIE_services', 'ZAMESTNANIE_student', 'ZAMESTNANIE_technician',\n",
            "       'ZAMESTNANIE_unemployed', 'ZAMESTNANIE_unknown', 'RODINNY_STAV_single',\n",
            "       'RODINNY_STAV_unknown', 'VZDELANIE_high.school',\n",
            "       'VZDELANIE_university.bachelor', 'VZDELANIE_university.master',\n",
            "       'VZDELANIE_unknown', 'KONTACT_TYP_telephone', 'MESIAC_aug',\n",
            "       'MESIAC_dec', 'MESIAC_jul', 'MESIAC_jun', 'MESIAC_mar', 'MESIAC_may',\n",
            "       'MESIAC_nov', 'MESIAC_oct', 'MESIAC_sep', 'DEN_mon', 'DEN_thu',\n",
            "       'DEN_tue', 'DEN_wed', 'VYSLEDOK_KAMPANE_success'],\n",
            "      dtype='object')\n",
            "[ 2  0  5 37  3  4  1 17 29 34 33 36 21 35 19 23 28 14  6 31 20  9 12 27\n",
            " 26 24 10 32 30 22 13 11  7 15  8 25 16 18]\n"
          ],
          "name": "stdout"
        },
        {
          "output_type": "execute_result",
          "data": {
            "text/plain": [
              "([<matplotlib.axis.XTick at 0x7fbc7a6e5be0>,\n",
              "  <matplotlib.axis.XTick at 0x7fbc7a114198>,\n",
              "  <matplotlib.axis.XTick at 0x7fbc7a114898>,\n",
              "  <matplotlib.axis.XTick at 0x7fbc7afb7b00>,\n",
              "  <matplotlib.axis.XTick at 0x7fbc7afb7940>,\n",
              "  <matplotlib.axis.XTick at 0x7fbc78b696d8>,\n",
              "  <matplotlib.axis.XTick at 0x7fbc78b695f8>,\n",
              "  <matplotlib.axis.XTick at 0x7fbc7a508b00>,\n",
              "  <matplotlib.axis.XTick at 0x7fbc78b69be0>,\n",
              "  <matplotlib.axis.XTick at 0x7fbc79b2ea90>,\n",
              "  <matplotlib.axis.XTick at 0x7fbc79b2ea58>,\n",
              "  <matplotlib.axis.XTick at 0x7fbc79b2e320>,\n",
              "  <matplotlib.axis.XTick at 0x7fbc79b28c50>,\n",
              "  <matplotlib.axis.XTick at 0x7fbc79b28da0>,\n",
              "  <matplotlib.axis.XTick at 0x7fbc79b283c8>,\n",
              "  <matplotlib.axis.XTick at 0x7fbc79d0d5c0>,\n",
              "  <matplotlib.axis.XTick at 0x7fbc79d0d390>,\n",
              "  <matplotlib.axis.XTick at 0x7fbc79d0d0b8>,\n",
              "  <matplotlib.axis.XTick at 0x7fbc79b28240>,\n",
              "  <matplotlib.axis.XTick at 0x7fbc79b2ee48>,\n",
              "  <matplotlib.axis.XTick at 0x7fbc863cc320>,\n",
              "  <matplotlib.axis.XTick at 0x7fbc863cc1d0>,\n",
              "  <matplotlib.axis.XTick at 0x7fbc863cc128>,\n",
              "  <matplotlib.axis.XTick at 0x7fbc8bbeac88>,\n",
              "  <matplotlib.axis.XTick at 0x7fbc8bbead30>,\n",
              "  <matplotlib.axis.XTick at 0x7fbc8bdd3240>,\n",
              "  <matplotlib.axis.XTick at 0x7fbc8bdd3e48>,\n",
              "  <matplotlib.axis.XTick at 0x7fbc8bbeacc0>,\n",
              "  <matplotlib.axis.XTick at 0x7fbc79b2e828>,\n",
              "  <matplotlib.axis.XTick at 0x7fbc8bdd3048>,\n",
              "  <matplotlib.axis.XTick at 0x7fbc894c5e48>,\n",
              "  <matplotlib.axis.XTick at 0x7fbc8698ba58>,\n",
              "  <matplotlib.axis.XTick at 0x7fbc7a9fa1d0>,\n",
              "  <matplotlib.axis.XTick at 0x7fbc7a9fa748>,\n",
              "  <matplotlib.axis.XTick at 0x7fbc7a9facc0>,\n",
              "  <matplotlib.axis.XTick at 0x7fbc7a9e9278>,\n",
              "  <matplotlib.axis.XTick at 0x7fbc7a9fa278>,\n",
              "  <matplotlib.axis.XTick at 0x7fbc894c56d8>],\n",
              " <a list of 38 Text xticklabel objects>)"
            ]
          },
          "metadata": {
            "tags": []
          },
          "execution_count": 246
        },
        {
          "output_type": "display_data",
          "data": {
            "image/png": "[encoded data removed]",
            "text/plain": [
              "<Figure size 1080x288 with 1 Axes>"
            ]
          },
          "metadata": {
            "tags": []
          }
        }
      ]
    },
    {
      "cell_type": "code",
      "metadata": {
        "id": "VCW9Wis0cC7e",
        "colab_type": "code",
        "outputId": "3f4b2df4-817e-4769-a096-446192761a4a",
        "colab": {
          "base_uri": "https://localhost:8080/",
          "height": 139
        }
      },
      "source": [
        "#random forest smote\n",
        "print(y_train[y_train==1].shape)#minority\n",
        "print(y_train[y_train==0].shape)#majority\n",
        "\n",
        "#SMOTE, ratio = 1\n",
        "sm = SMOTE(random_state=27, ratio=1)\n",
        "X_train_s, y_train_s = sm.fit_sample(X_train, y_train.ravel())\n",
        "\n",
        "print(y_train_s[y_train_s==1].shape)\n",
        "print(y_train_s[y_train_s==0].shape)"
      ],
      "execution_count": 247,
      "outputs": [
        {
          "output_type": "stream",
          "text": [
            "(3490,)\n",
            "(28321,)\n"
          ],
          "name": "stdout"
        },
        {
          "output_type": "stream",
          "text": [
            "/usr/local/lib/python3.6/dist-packages/sklearn/utils/deprecation.py:87: FutureWarning: Function safe_indexing is deprecated; safe_indexing is deprecated in version 0.22 and will be removed in version 0.24.\n",
            "  warnings.warn(msg, category=FutureWarning)\n"
          ],
          "name": "stderr"
        },
        {
          "output_type": "stream",
          "text": [
            "(28321,)\n",
            "(28321,)\n"
          ],
          "name": "stdout"
        }
      ]
    },
    {
      "cell_type": "code",
      "metadata": {
        "id": "0RRSPfiVcHI7",
        "colab_type": "code",
        "outputId": "d030a7d4-e2ab-4058-81c2-44cf2d0f13c3",
        "colab": {
          "base_uri": "https://localhost:8080/",
          "height": 221
        }
      },
      "source": [
        "#RANDOM FOREST\n",
        "\n",
        "y_train = np.reshape(y_train,len(y_train),)\n",
        "#fitting the model with data\n",
        "clf.fit(X_train_s,y_train_s)\n",
        "\n",
        "#predictions\n",
        "y_pred_s=clf.predict(X_test)\n",
        "\n",
        "#metrics - precision, recall, f1-score, accuracy\n",
        "print(classification_report(y_test,y_pred_s))\n",
        "print(\"Accuracy:\",metrics.accuracy_score(y_test, y_pred_s))\n",
        "\n",
        "#confusion matrix\n",
        "cnf_matrix = metrics.confusion_matrix(y_test, y_pred_s)\n",
        "print(cnf_matrix)"
      ],
      "execution_count": 248,
      "outputs": [
        {
          "output_type": "stream",
          "text": [
            "              precision    recall  f1-score   support\n",
            "\n",
            "           0       0.96      0.88      0.92      7112\n",
            "           1       0.41      0.72      0.52       841\n",
            "\n",
            "    accuracy                           0.86      7953\n",
            "   macro avg       0.69      0.80      0.72      7953\n",
            "weighted avg       0.91      0.86      0.88      7953\n",
            "\n",
            "Accuracy: 0.8615616748396832\n",
            "[[6246  866]\n",
            " [ 235  606]]\n"
          ],
          "name": "stdout"
        }
      ]
    },
    {
      "cell_type": "code",
      "metadata": {
        "id": "L0bxrWmmcKr_",
        "colab_type": "code",
        "outputId": "5ee79b02-d3b5-4ca7-9082-d6222e44ae78",
        "colab": {
          "base_uri": "https://localhost:8080/",
          "height": 312
        }
      },
      "source": [
        "#AUC metrics\n",
        "y_pred_p_s=clf.predict_proba(X_test)\n",
        "#y_test = np.reshape(y_test,len(y_test),)\n",
        "#print(y_test.shape)\n",
        "roc_auc = metrics.roc_auc_score(y_test, y_pred_p_s[:,1])\n",
        "print(roc_auc)\n",
        "\n",
        "#plotting ROC curve\n",
        "fpr, tpr, thresholds = roc_curve(y_test, y_pred_p_s[:,1])\n",
        "\n",
        "plt.plot(fpr,tpr,'b-', label= 'RANDOM_FOR: %.4f'%roc_auc)\n",
        "plt.plot([0,1],[0,1],'k-',label='random')\n",
        "plt.plot([0,0,1,1],[0,1,1,1],'g-',label='perfect')\n",
        "plt.legend()\n",
        "plt.xlabel('False Positive Rate')\n",
        "plt.ylabel('True Positive Rate')\n",
        "plt.title(\"M4\")\n",
        "plt.show()"
      ],
      "execution_count": 249,
      "outputs": [
        {
          "output_type": "stream",
          "text": [
            "0.9009428220996751\n"
          ],
          "name": "stdout"
        },
        {
          "output_type": "display_data",
          "data": {
            "image/png": "[encoded data removed]",
            "text/plain": [
              "<Figure size 432x288 with 1 Axes>"
            ]
          },
          "metadata": {
            "tags": []
          }
        }
      ]
    },
    {
      "cell_type": "code",
      "metadata": {
        "id": "Hfy-HGO_vZd7",
        "colab_type": "code",
        "colab": {
          "base_uri": "https://localhost:8080/",
          "height": 323
        },
        "outputId": "c2e94ecd-0453-4810-80cc-a2c79f7e5342"
      },
      "source": [
        "#logisticka regresia na zaklade top features\n",
        "features_top = ['TRVANIE', 'HYPO_BAL', 'EMP.VAR.RATE', 'VYSLEDOK_KAMPANE_success', 'POCET_KAMPANI', 'POCET_KONTAKTOVANI', 'SU_BAL', 'RODINNY_STAV_single', 'MESIAC_may']\n",
        "logReg = stm.Logit(y_train, X_train[features_top])\n",
        "logistic_regression = logReg.fit()\n",
        "print(logistic_regression.summary)\n",
        "print(logistic_regression.params)"
      ],
      "execution_count": 252,
      "outputs": [
        {
          "output_type": "stream",
          "text": [
            "Optimization terminated successfully.\n",
            "         Current function value: inf\n",
            "         Iterations 7\n",
            "<bound method BinaryResults.summary of <statsmodels.discrete.discrete_model.LogitResults object at 0x7fbc7b103f60>>\n",
            "TRVANIE                     0.953422\n",
            "HYPO_BAL                    0.049521\n",
            "EMP.VAR.RATE               -0.728458\n",
            "VYSLEDOK_KAMPANE_success    0.443206\n",
            "POCET_KAMPANI               0.010758\n",
            "POCET_KONTAKTOVANI          0.132264\n",
            "SU_BAL                      0.025444\n",
            "RODINNY_STAV_single        -1.935691\n",
            "MESIAC_may                 -3.069957\n",
            "dtype: float64\n"
          ],
          "name": "stdout"
        },
        {
          "output_type": "stream",
          "text": [
            "/usr/local/lib/python3.6/dist-packages/statsmodels/discrete/discrete_model.py:1736: RuntimeWarning: overflow encountered in exp\n",
            "  return 1/(1+np.exp(-X))\n",
            "/usr/local/lib/python3.6/dist-packages/statsmodels/discrete/discrete_model.py:1789: RuntimeWarning: divide by zero encountered in log\n",
            "  return np.sum(np.log(self.cdf(q*np.dot(X,params))))\n"
          ],
          "name": "stderr"
        }
      ]
    },
    {
      "cell_type": "code",
      "metadata": {
        "id": "e5vkGvz_vZrE",
        "colab_type": "code",
        "colab": {
          "base_uri": "https://localhost:8080/",
          "height": 340
        },
        "outputId": "c36f3d78-8f35-4e31-a132-c2c48b66cd22"
      },
      "source": [
        "clf = LogisticRegression(random_state=0).fit(X_train[features_top], y_train)\n",
        "y_pred = clf.predict(X_test[features_top])\n",
        "print(clf.predict_proba(X_test[features_top]))\n",
        "#metrics - precision, recall, f1-score, accuracy\n",
        "print(classification_report(y_test.ravel(),y_pred))\n",
        "print(\"Accuracy:\",metrics.accuracy_score(y_test.ravel(), y_pred))\n",
        "#confusion matrix\n",
        "cnf_matrix = metrics.confusion_matrix(y_test, y_pred)\n",
        "cnf_matrix"
      ],
      "execution_count": 253,
      "outputs": [
        {
          "output_type": "stream",
          "text": [
            "[[0.98754351 0.01245649]\n",
            " [0.89524891 0.10475109]\n",
            " [0.96705976 0.03294024]\n",
            " ...\n",
            " [0.82069307 0.17930693]\n",
            " [0.94093891 0.05906109]\n",
            " [0.99151973 0.00848027]]\n",
            "              precision    recall  f1-score   support\n",
            "\n",
            "           0       0.93      0.97      0.95      7112\n",
            "           1       0.60      0.36      0.45       841\n",
            "\n",
            "    accuracy                           0.91      7953\n",
            "   macro avg       0.76      0.67      0.70      7953\n",
            "weighted avg       0.89      0.91      0.90      7953\n",
            "\n",
            "Accuracy: 0.9069533509367534\n"
          ],
          "name": "stdout"
        },
        {
          "output_type": "execute_result",
          "data": {
            "text/plain": [
              "array([[6909,  203],\n",
              "       [ 537,  304]])"
            ]
          },
          "metadata": {
            "tags": []
          },
          "execution_count": 253
        }
      ]
    },
    {
      "cell_type": "code",
      "metadata": {
        "id": "6ov1HQ3svZO8",
        "colab_type": "code",
        "colab": {
          "base_uri": "https://localhost:8080/",
          "height": 312
        },
        "outputId": "a825f456-02b9-43ba-a231-3743a185acac"
      },
      "source": [
        "#AUC metrics\n",
        "y_pred_p=clf.predict_proba(X_test[features_top])\n",
        "#y_test = np.reshape(y_test,len(y_test),)\n",
        "#print(y_test.shape)\n",
        "roc_auc = metrics.roc_auc_score(y_test, y_pred_p[:,1])\n",
        "print(roc_auc)\n",
        "\n",
        "#plotting ROC curve\n",
        "fpr, tpr, thresholds = roc_curve(y_test, y_pred_p[:,1])\n",
        "\n",
        "plt.plot(fpr,tpr,'b-', label= 'LOG_REG: %.4f'%roc_auc)\n",
        "plt.plot([0,1],[0,1],'k-',label='random')\n",
        "plt.plot([0,0,1,1],[0,1,1,1],'g-',label='perfect')\n",
        "plt.legend()\n",
        "plt.xlabel('False Positive Rate')\n",
        "plt.ylabel('True Positive Rate')\n",
        "plt.title(\"M5 - top features\")\n",
        "plt.show()"
      ],
      "execution_count": 255,
      "outputs": [
        {
          "output_type": "stream",
          "text": [
            "0.9248725003310376\n"
          ],
          "name": "stdout"
        },
        {
          "output_type": "display_data",
          "data": {
            "image/png": "[encoded data removed]",
            "text/plain": [
              "<Figure size 432x288 with 1 Axes>"
            ]
          },
          "metadata": {
            "tags": []
          }
        }
      ]
    }
  ]
}